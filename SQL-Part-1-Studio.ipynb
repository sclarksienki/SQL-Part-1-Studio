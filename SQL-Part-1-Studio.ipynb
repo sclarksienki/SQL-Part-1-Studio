{
    "metadata": {
        "kernelspec": {
            "name": "SQL",
            "display_name": "SQL",
            "language": "sql"
        },
        "language_info": {
            "name": "sql",
            "version": ""
        },
        "extensions": {
            "azuredatastudio": {
                "version": 1,
                "views": []
            }
        }
    },
    "nbformat_minor": 2,
    "nbformat": 4,
    "cells": [
        {
            "cell_type": "markdown",
            "source": [
                "# SQL Part 1 Studio\n",
                "\n",
                "### Let's practice your SQL quering skills!  For each question, work along in the notebook adding your query and answering the questions. \n",
                "\n",
                "### **DataSet**\n",
                "\n",
                "### <span style=\"font-size: 14px; font-family: -apple-system, BlinkMacSystemFont, sans-serif;\">We will be using the Goodbooks-10k dataset from the exercises in the prep work.&nbsp; Feel free to reference your notebook.</span>\n",
                "\n",
                "- The dataset can be found here: [goodbooks-10k](https://www.kaggle.com/zygmunt/goodbooks-10k)\n",
                "- You can access the **BooksDB** in the Launchcode server.\n",
                "\n",
                "### **Business Issue**\n",
                "\n",
                "You work for a small independant book store and you want to increase sales by running various promotions.  Start by becoming more familar with the BooksDB."
            ],
            "metadata": {
                "azdata_cell_guid": "b9034d8a-b631-48bf-a895-1012a6ffa784"
            }
        },
        {
            "cell_type": "markdown",
            "source": [
                "## Part 1. BooksDB Questions\n",
                "\n",
                "<span style=\"color: rgba(0, 0, 0, 0.87); font-family: -apple-system, system-ui, &quot;Segoe UI&quot;, Helvetica, Arial, sans-serif, &quot;Apple Color Emoji&quot;, &quot;Segoe UI Emoji&quot;, &quot;Segoe UI Symbol&quot;; background-color: rgb(255, 255, 255);\">Question 1:&nbsp; Write a query of the books table, returning the TOP 100 results and&nbsp; includes, book_id, authors, title, average_rating.&nbsp; Use an alias for at least one column and in descending order of rating.&nbsp; What is the number one book?</span>"
            ],
            "metadata": {
                "azdata_cell_guid": "6e55eb1c-4a14-4076-90d2-95ed17a6309f",
                "tags": [
                    "hide_input"
                ]
            },
            "attachments": {}
        },
        {
            "cell_type": "code",
            "source": [
                "-- return top 100 results\n",
                "SELECT TOP 100 book_id AS 'ID', authors AS 'Authors', title AS 'Title', average_rating AS 'Avg. Rating'\n",
                "FROM BooksDB.dbo.books\n",
                "ORDER BY (average_rating)DESC;"
            ],
            "metadata": {
                "azdata_cell_guid": "470b0ca4-9a32-4b46-a42e-bbb645101769",
                "tags": [],
                "language": "sql"
            },
            "outputs": [
                {
                    "output_type": "display_data",
                    "data": {
                        "text/html": "(100 rows affected)"
                    },
                    "metadata": {}
                },
                {
                    "output_type": "display_data",
                    "data": {
                        "text/html": "Total execution time: 00:00:00.077"
                    },
                    "metadata": {}
                },
                {
                    "output_type": "execute_result",
                    "metadata": {},
                    "execution_count": 4,
                    "data": {
                        "application/vnd.dataresource+json": {
                            "schema": {
                                "fields": [
                                    {
                                        "name": "ID"
                                    },
                                    {
                                        "name": "Authors"
                                    },
                                    {
                                        "name": "Title"
                                    },
                                    {
                                        "name": "Avg. Rating"
                                    }
                                ]
                            },
                            "data": [
                                {
                                    "ID": "24812",
                                    "Authors": "Bill Watterson",
                                    "Title": "The Complete Calvin and Hobbes",
                                    "Avg. Rating": "4.82"
                                },
                                {
                                    "ID": "17332218",
                                    "Authors": "Brandon Sanderson",
                                    "Title": "Words of Radiance (The Stormlight Archive, #2)",
                                    "Avg. Rating": "4.77"
                                },
                                {
                                    "ID": "8",
                                    "Authors": "J.K. Rowling, Mary GrandPré",
                                    "Title": "Harry Potter Boxed Set, Books 1-5 (Harry Potter, #1-5)",
                                    "Avg. Rating": "4.77"
                                },
                                {
                                    "ID": "5031805",
                                    "Authors": "Anonymous, Lane T. Dennis, Wayne A. Grudem",
                                    "Title": "ESV Study Bible",
                                    "Avg. Rating": "4.76"
                                },
                                {
                                    "ID": "95602",
                                    "Authors": "Francine Rivers",
                                    "Title": "Mark of the Lion Trilogy",
                                    "Avg. Rating": "4.76"
                                },
                                {
                                    "ID": "24814",
                                    "Authors": "Bill Watterson",
                                    "Title": "It's a Magical World: A Calvin and Hobbes Collection",
                                    "Avg. Rating": "4.75"
                                },
                                {
                                    "ID": "862041",
                                    "Authors": "J.K. Rowling",
                                    "Title": "Harry Potter Boxset (Harry Potter, #1-7)",
                                    "Avg. Rating": "4.74"
                                },
                                {
                                    "ID": "70489",
                                    "Authors": "Bill Watterson",
                                    "Title": "There's Treasure Everywhere: A Calvin and Hobbes Collection",
                                    "Avg. Rating": "4.74"
                                },
                                {
                                    "ID": "10",
                                    "Authors": "J.K. Rowling",
                                    "Title": "Harry Potter Collection (Harry Potter, #1-6)",
                                    "Avg. Rating": "4.73"
                                },
                                {
                                    "ID": "59715",
                                    "Authors": "Bill Watterson",
                                    "Title": "The Authoritative Calvin and Hobbes: A Calvin and Hobbes Treasury",
                                    "Avg. Rating": "4.73"
                                },
                                {
                                    "ID": "24815",
                                    "Authors": "Bill Watterson",
                                    "Title": "The Indispensable Calvin and Hobbes",
                                    "Avg. Rating": "4.73"
                                },
                                {
                                    "ID": "17927395",
                                    "Authors": "Sarah J. Maas",
                                    "Title": "A Court of Mist and Fury (A Court of Thorns and Roses, #2)",
                                    "Avg. Rating": "4.72"
                                },
                                {
                                    "ID": "70487",
                                    "Authors": "Bill Watterson",
                                    "Title": "Attack of the Deranged Mutant Killer Monster Snow Goons",
                                    "Avg. Rating": "4.72"
                                },
                                {
                                    "ID": "24816",
                                    "Authors": "Bill Watterson",
                                    "Title": "Homicidal Psycho Jungle Cat: A Calvin and Hobbes Collection",
                                    "Avg. Rating": "4.71"
                                },
                                {
                                    "ID": "121792",
                                    "Authors": "Bill Watterson",
                                    "Title": "The Revenge of the Baby-Sat",
                                    "Avg. Rating": "4.71"
                                },
                                {
                                    "ID": "2350129",
                                    "Authors": "The Church of Jesus Christ of Latter-day Saints",
                                    "Title": "Preach My Gospel: A Guide To Missionary Service",
                                    "Avg. Rating": "4.71"
                                },
                                {
                                    "ID": "24818",
                                    "Authors": "Bill Watterson",
                                    "Title": "The Days Are Just Packed: A Calvin and Hobbes Collection",
                                    "Avg. Rating": "4.68"
                                },
                                {
                                    "ID": "265205",
                                    "Authors": "Anonymous, Ronald A. Beers, Ronald A. Beers",
                                    "Title": "Life Application Study Bible: NIV",
                                    "Avg. Rating": "4.67"
                                },
                                {
                                    "ID": "9329354",
                                    "Authors": "Brandon Sanderson",
                                    "Title": "The Way of Kings, Part 1 (The Stormlight Archive #1.1)",
                                    "Avg. Rating": "4.67"
                                },
                                {
                                    "ID": "99298",
                                    "Authors": "J.K. Rowling, Mary GrandPré",
                                    "Title": "The Harry Potter Collection 1-4 (Harry Potter, #1-4)",
                                    "Avg. Rating": "4.66"
                                },
                                {
                                    "ID": "5883777",
                                    "Authors": "Anonymous",
                                    "Title": "The Holy Bible: English Standard Version",
                                    "Avg. Rating": "4.66"
                                },
                                {
                                    "ID": "24494",
                                    "Authors": "Bill Watterson",
                                    "Title": "The Calvin and Hobbes Lazy Sunday Book",
                                    "Avg. Rating": "4.66"
                                },
                                {
                                    "ID": "43070",
                                    "Authors": "Bill Watterson",
                                    "Title": "The Essential Calvin and Hobbes: A Calvin and Hobbes Treasury",
                                    "Avg. Rating": "4.65"
                                },
                                {
                                    "ID": "18337259",
                                    "Authors": "Daniel Abraham, George R.R. Martin, Tommy Patterson",
                                    "Title": "A Game of Thrones: Comic Book, Issue 1",
                                    "Avg. Rating": "4.65"
                                },
                                {
                                    "ID": "23753",
                                    "Authors": "Neil Gaiman, Mike Dringenberg, Chris Bachalo, Michael Zulli, Kelly Jones, Charles Vess, Colleen Doran, Malcolm Jones III, Steve Parkhouse, Daniel Vozzo, Lee Loughridge, Steve Oliff, Todd Klein, Dave McKean, Sam Kieth",
                                    "Title": "The Absolute Sandman, Volume One",
                                    "Avg. Rating": "4.65"
                                },
                                {
                                    "ID": "7235533",
                                    "Authors": "Brandon Sanderson",
                                    "Title": "The Way of Kings (The Stormlight Archive, #1)",
                                    "Avg. Rating": "4.64"
                                },
                                {
                                    "ID": "24813",
                                    "Authors": "Bill Watterson",
                                    "Title": "The Calvin and Hobbes Tenth Anniversary Book",
                                    "Avg. Rating": "4.63"
                                },
                                {
                                    "ID": "9814682",
                                    "Authors": "George R.R. Martin",
                                    "Title": "A Song of Ice and Fire (A Song of Ice and Fire, #1-4)",
                                    "Avg. Rating": "4.63"
                                },
                                {
                                    "ID": "12177850",
                                    "Authors": "George R.R. Martin",
                                    "Title": "A Song of Ice and Fire (A Song of Ice and Fire, #1-5)",
                                    "Avg. Rating": "4.63"
                                },
                                {
                                    "ID": "481749",
                                    "Authors": "James E. Talmage",
                                    "Title": "Jesus the Christ",
                                    "Avg. Rating": "4.63"
                                },
                                {
                                    "ID": "46292",
                                    "Authors": "Hafez",
                                    "Title": "The Divan",
                                    "Avg. Rating": "4.63"
                                },
                                {
                                    "ID": "6801614",
                                    "Authors": "Eiichirō Oda",
                                    "Title": "One Piece, Volume 38: Rocketman!! (One Piece, #38)",
                                    "Avg. Rating": "4.63"
                                },
                                {
                                    "ID": "22299763",
                                    "Authors": "Leigh Bardugo",
                                    "Title": "Crooked Kingdom (Six of Crows, #2)",
                                    "Avg. Rating": "4.62"
                                },
                                {
                                    "ID": "32075671",
                                    "Authors": "Angie Thomas",
                                    "Title": "The Hate U Give",
                                    "Avg. Rating": "4.62"
                                },
                                {
                                    "ID": "136251",
                                    "Authors": "J.K. Rowling, Mary GrandPré",
                                    "Title": "Harry Potter and the Deathly Hallows (Harry Potter, #7)",
                                    "Avg. Rating": "4.61"
                                },
                                {
                                    "ID": "77727",
                                    "Authors": "Bill Watterson, G.B. Trudeau",
                                    "Title": "Calvin and Hobbes",
                                    "Avg. Rating": "4.61"
                                },
                                {
                                    "ID": "280111",
                                    "Authors": "Anonymous",
                                    "Title": "Holy Bible: New International Version",
                                    "Avg. Rating": "4.61"
                                },
                                {
                                    "ID": "2223324",
                                    "Authors": "John   Williams",
                                    "Title": "Harry Potter and the Chamber of Secrets: Sheet Music for Flute with C.D",
                                    "Avg. Rating": "4.61"
                                },
                                {
                                    "ID": "6339989",
                                    "Authors": "Richelle Mead",
                                    "Title": "Vampire Academy Collection (Vampire Academy, #1-3)",
                                    "Avg. Rating": "4.61"
                                },
                                {
                                    "ID": "596259",
                                    "Authors": "Gordon B. Hinckley",
                                    "Title": "Standing for Something: 10 Neglected Virtues That Will Heal Our Hearts and Homes",
                                    "Avg. Rating": "4.61"
                                },
                                {
                                    "ID": "47697",
                                    "Authors": "Alisa Kwitney, Neil Gaiman",
                                    "Title": "The Sandman: King of Dreams",
                                    "Avg. Rating": "4.61"
                                },
                                {
                                    "ID": "18006496",
                                    "Authors": "Sarah J. Maas",
                                    "Title": "Queen of Shadows (Throne of Glass, #4)",
                                    "Avg. Rating": "4.6"
                                },
                                {
                                    "ID": "95617",
                                    "Authors": "Francine Rivers, Richard Ferrone",
                                    "Title": "A Voice in the Wind (Mark of the Lion, #1)",
                                    "Avg. Rating": "4.6"
                                },
                                {
                                    "ID": "46601",
                                    "Authors": "Francine Rivers",
                                    "Title": "An Echo in the Darkness (Mark of the Lion, #2)",
                                    "Avg. Rating": "4.6"
                                },
                                {
                                    "ID": "7025086",
                                    "Authors": "Christopher Yost, Pasqual Ferry, Orson Scott Card",
                                    "Title": "Ender's Game, Volume 2: Command School",
                                    "Avg. Rating": "4.6"
                                },
                                {
                                    "ID": "18335634",
                                    "Authors": "Cassandra Clare",
                                    "Title": "Clockwork Princess (The Infernal Devices, #3)",
                                    "Avg. Rating": "4.59"
                                },
                                {
                                    "ID": "30",
                                    "Authors": "J.R.R. Tolkien",
                                    "Title": "J.R.R. Tolkien 4-Book Boxed Set: The Hobbit and The Lord of the Rings",
                                    "Avg. Rating": "4.59"
                                },
                                {
                                    "ID": "2299110",
                                    "Authors": "Sherrilyn Kenyon",
                                    "Title": "Acheron (Dark-Hunter #14)",
                                    "Avg. Rating": "4.59"
                                },
                                {
                                    "ID": "119",
                                    "Authors": "Gary Russell",
                                    "Title": "The Lord of the Rings: The Art of The Fellowship of the Ring",
                                    "Avg. Rating": "4.59"
                                },
                                {
                                    "ID": "71252",
                                    "Authors": "Neil Gaiman, Marc Hempel, Richard Case, D'Israeli, Teddy Kristiansen, Glyn Dillon, Charles Vess, Dean Ormston, Kevin Nowlan, Todd Klein, Frank McConnell",
                                    "Title": "The Kindly Ones (The Sandman #9)",
                                    "Avg. Rating": "4.59"
                                },
                                {
                                    "ID": "349254",
                                    "Authors": "Jude Fisher",
                                    "Title": "The Lord of the Rings: The Return of the King: Visual Companion",
                                    "Avg. Rating": "4.59"
                                },
                                {
                                    "ID": "9832370",
                                    "Authors": "BookRags",
                                    "Title": "BookRags Summary:  A Storm of Swords",
                                    "Avg. Rating": "4.59"
                                },
                                {
                                    "ID": "11106458",
                                    "Authors": "Cassandra Clare",
                                    "Title": "The Mortal Instruments (The Mortal Instruments #1-4)",
                                    "Avg. Rating": "4.59"
                                },
                                {
                                    "ID": "14367051",
                                    "Authors": "Cassandra Clare",
                                    "Title": "City of Bones / City of Ashes / City of Glass / City of Fallen Angels / City of Lost Souls (The Mortal Instruments, #1-5)",
                                    "Avg. Rating": "4.59"
                                },
                                {
                                    "ID": "28260587",
                                    "Authors": "Sarah J. Maas",
                                    "Title": "Empire of Storms (Throne of Glass, #5)",
                                    "Avg. Rating": "4.58"
                                },
                                {
                                    "ID": "3165162",
                                    "Authors": "Rick Riordan",
                                    "Title": "Percy Jackson and the Olympians (Percy Jackson and the Olympians, #1-3)",
                                    "Avg. Rating": "4.58"
                                },
                                {
                                    "ID": "20342617",
                                    "Authors": "Bryan Stevenson",
                                    "Title": "Just Mercy: A Story of Justice and Redemption",
                                    "Avg. Rating": "4.58"
                                },
                                {
                                    "ID": "17961",
                                    "Authors": "Jorge Luis Borges, Andrew Hurley",
                                    "Title": "Collected Fictions",
                                    "Avg. Rating": "4.58"
                                },
                                {
                                    "ID": "4808763",
                                    "Authors": "Isaac Asimov, Bob E. Flick, Jim Gallant",
                                    "Title": "The Last Question",
                                    "Avg. Rating": "4.58"
                                },
                                {
                                    "ID": "15767586",
                                    "Authors": "Sherrilyn Kenyon",
                                    "Title": "Styxx (Dark-Hunter, #22)",
                                    "Avg. Rating": "4.58"
                                },
                                {
                                    "ID": "892295",
                                    "Authors": "Arthur Conan Doyle, William S. Baring-Gould",
                                    "Title": "The Annotated Sherlock Holmes: The Four Novels and the Fifty-Six Short Stories Complete (2 Volume Set)",
                                    "Avg. Rating": "4.58"
                                },
                                {
                                    "ID": "1215032",
                                    "Authors": "Patrick Rothfuss",
                                    "Title": "The Wise Man's Fear (The Kingkiller Chronicle, #2)",
                                    "Avg. Rating": "4.57"
                                },
                                {
                                    "ID": "6485421",
                                    "Authors": "Cassandra Clare",
                                    "Title": "The Mortal Instruments Boxed Set: City of Bones; City of Ashes; City of Glass (The Mortal Instruments, #1-3)",
                                    "Avg. Rating": "4.57"
                                },
                                {
                                    "ID": "17131869",
                                    "Authors": "Brian K. Vaughan, Fiona Staples",
                                    "Title": "Saga, Vol. 2 (Saga, #2)",
                                    "Avg. Rating": "4.57"
                                },
                                {
                                    "ID": "8718952",
                                    "Authors": "Richelle Mead",
                                    "Title": "Vampire Academy Box Set (Vampire Academy, #1-4)",
                                    "Avg. Rating": "4.57"
                                },
                                {
                                    "ID": "4634266",
                                    "Authors": "Masashi Kishimoto",
                                    "Title": "NARUTO -ナルト- 巻ノ四十三",
                                    "Avg. Rating": "4.57"
                                },
                                {
                                    "ID": "6443349",
                                    "Authors": "Rick Riordan, Tk",
                                    "Title": "Percy Jackson and the Olympians Boxed Set (Percy Jackson and the Olympians, #1-5)",
                                    "Avg. Rating": "4.57"
                                },
                                {
                                    "ID": "545425",
                                    "Authors": "Safiy al-Rahman al-Mubarakfuri",
                                    "Title": "الرحيق المختوم",
                                    "Avg. Rating": "4.57"
                                },
                                {
                                    "ID": "17333174",
                                    "Authors": "Ilona Andrews",
                                    "Title": "Magic Binds (Kate Daniels, #9)",
                                    "Avg. Rating": "4.57"
                                },
                                {
                                    "ID": "147915",
                                    "Authors": "George R.R. Martin",
                                    "Title": "A Storm of Swords: Blood and Gold (A Song of Ice and Fire, #3: Part 2 of 2)",
                                    "Avg. Rating": "4.56"
                                },
                                {
                                    "ID": "19358975",
                                    "Authors": "Brian K. Vaughan, Fiona Staples",
                                    "Title": "Saga, Vol. 3 (Saga, #3)",
                                    "Avg. Rating": "4.56"
                                },
                                {
                                    "ID": "10785687",
                                    "Authors": "Bob McCabe",
                                    "Title": "Harry Potter Page to Screen: The Complete Filmmaking Journey",
                                    "Avg. Rating": "4.56"
                                },
                                {
                                    "ID": "17880714",
                                    "Authors": "K. Bromberg",
                                    "Title": "Crashed (Driven, #3)",
                                    "Avg. Rating": "4.56"
                                },
                                {
                                    "ID": "1317181",
                                    "Authors": "J.K. Rowling",
                                    "Title": "Harry Potter and the Order of the Phoenix (Harry Potter, #5, Part 1)",
                                    "Avg. Rating": "4.56"
                                },
                                {
                                    "ID": "15743078",
                                    "Authors": "Veronica Roth",
                                    "Title": "The Divergent Series 2-Book Collection (Divergent, #1-2)",
                                    "Avg. Rating": "4.56"
                                },
                                {
                                    "ID": "29236299",
                                    "Authors": "Amie Kaufman, Jay Kristoff, Marie Lu",
                                    "Title": "Gemina (The Illuminae Files, #2)",
                                    "Avg. Rating": "4.56"
                                },
                                {
                                    "ID": "186074",
                                    "Authors": "Patrick Rothfuss",
                                    "Title": "The Name of the Wind (The Kingkiller Chronicle, #1)",
                                    "Avg. Rating": "4.55"
                                },
                                {
                                    "ID": "19486421",
                                    "Authors": "Jim Butcher",
                                    "Title": "Skin Game (The Dresden Files, #15)",
                                    "Avg. Rating": "4.55"
                                },
                                {
                                    "ID": "6604209",
                                    "Authors": "Brandon Sanderson",
                                    "Title": "Mistborn Trilogy Boxed Set (Mistborn, #1-3)",
                                    "Avg. Rating": "4.55"
                                },
                                {
                                    "ID": "25105",
                                    "Authors": "Neil Gaiman, Jill Thompson, Vince Locke, Peter Straub",
                                    "Title": "Brief Lives (The Sandman #7)",
                                    "Avg. Rating": "4.55"
                                },
                                {
                                    "ID": "8346300",
                                    "Authors": "Andrew Williamson, Andrew Williamson",
                                    "Title": "Harry Potter: A Pop-Up Book: Based on the Film Phenomenon",
                                    "Avg. Rating": "4.55"
                                },
                                {
                                    "ID": "14905",
                                    "Authors": "Jane Austen",
                                    "Title": "The Complete Novels",
                                    "Avg. Rating": "4.55"
                                },
                                {
                                    "ID": "13184992",
                                    "Authors": "Kristen Ashley",
                                    "Title": "Rock Chick Regret (Rock Chick, #7)",
                                    "Avg. Rating": "4.55"
                                },
                                {
                                    "ID": "71823",
                                    "Authors": "Stephen King",
                                    "Title": "The Green Mile, Part 6: Coffey on the Mile",
                                    "Avg. Rating": "4.55"
                                },
                                {
                                    "ID": "1",
                                    "Authors": "J.K. Rowling, Mary GrandPré",
                                    "Title": "Harry Potter and the Half-Blood Prince (Harry Potter, #6)",
                                    "Avg. Rating": "4.54"
                                },
                                {
                                    "ID": "62291",
                                    "Authors": "George R.R. Martin",
                                    "Title": "A Storm of Swords (A Song of Ice and Fire, #3)",
                                    "Avg. Rating": "4.54"
                                },
                                {
                                    "ID": "21853621",
                                    "Authors": "Kristin Hannah",
                                    "Title": "The Nightingale",
                                    "Avg. Rating": "4.54"
                                },
                                {
                                    "ID": "12127810",
                                    "Authors": "Rick Riordan",
                                    "Title": "The House of Hades (The Heroes of Olympus, #4)",
                                    "Avg. Rating": "4.54"
                                },
                                {
                                    "ID": "6585201",
                                    "Authors": "Jim Butcher",
                                    "Title": "Changes (The Dresden Files, #12)",
                                    "Avg. Rating": "4.54"
                                },
                                {
                                    "ID": "381421",
                                    "Authors": "Sarah  Young",
                                    "Title": "Jesus Calling: Enjoying Peace in His Presence",
                                    "Avg. Rating": "4.54"
                                },
                                {
                                    "ID": "25101",
                                    "Authors": "Neil Gaiman, Matt Wagner, George Pratt, Dick Giordano, Kelley Jones, P. Craig Russell, Mike Dringenberg, Malcolm Jones III, Todd Klein, Harlan Ellison",
                                    "Title": "Season of Mists (The Sandman #4)",
                                    "Avg. Rating": "4.54"
                                },
                                {
                                    "ID": "89959",
                                    "Authors": "Founding Fathers",
                                    "Title": "The Constitution of the United States of America",
                                    "Avg. Rating": "4.54"
                                },
                                {
                                    "ID": "23766634",
                                    "Authors": "Sarah J. Maas",
                                    "Title": "A Court of Wings and Ruin (A Court of Thorns and Roses, #3)",
                                    "Avg. Rating": "4.54"
                                },
                                {
                                    "ID": "20706320",
                                    "Authors": "Chris Colfer, Brandon Dorman",
                                    "Title": "A Grimm Warning (The Land of Stories, #3)",
                                    "Avg. Rating": "4.54"
                                },
                                {
                                    "ID": "8163161",
                                    "Authors": "Bisco Hatori",
                                    "Title": "Ouran High School Host Club, Vol. 15 (Ouran High School Host Club, #15)",
                                    "Avg. Rating": "4.54"
                                },
                                {
                                    "ID": "5",
                                    "Authors": "J.K. Rowling, Mary GrandPré, Rufus Beck",
                                    "Title": "Harry Potter and the Prisoner of Azkaban (Harry Potter, #3)",
                                    "Avg. Rating": "4.53"
                                },
                                {
                                    "ID": "6",
                                    "Authors": "J.K. Rowling, Mary GrandPré",
                                    "Title": "Harry Potter and the Goblet of Fire (Harry Potter, #4)",
                                    "Avg. Rating": "4.53"
                                },
                                {
                                    "ID": "20613470",
                                    "Authors": "Sarah J. Maas",
                                    "Title": "Heir of Fire (Throne of Glass, #3)",
                                    "Avg. Rating": "4.53"
                                },
                                {
                                    "ID": "15195",
                                    "Authors": "Art Spiegelman",
                                    "Title": "The Complete Maus (Maus, #1-2)",
                                    "Avg. Rating": "4.53"
                                },
                                {
                                    "ID": "25104",
                                    "Authors": "Neil Gaiman, Michael Zulli, Jon J. Muth, Charles Vess, Mikal Gilmore",
                                    "Title": "The Wake (The Sandman #10)",
                                    "Avg. Rating": "4.53"
                                }
                            ]
                        },
                        "text/html": [
                            "<table>",
                            "<tr><th>ID</th><th>Authors</th><th>Title</th><th>Avg. Rating</th></tr>",
                            "<tr><td>24812</td><td>Bill Watterson</td><td>The Complete Calvin and Hobbes</td><td>4.82</td></tr>",
                            "<tr><td>17332218</td><td>Brandon Sanderson</td><td>Words of Radiance (The Stormlight Archive, #2)</td><td>4.77</td></tr>",
                            "<tr><td>8</td><td>J.K. Rowling, Mary GrandPré</td><td>Harry Potter Boxed Set, Books 1-5 (Harry Potter, #1-5)</td><td>4.77</td></tr>",
                            "<tr><td>5031805</td><td>Anonymous, Lane T. Dennis, Wayne A. Grudem</td><td>ESV Study Bible</td><td>4.76</td></tr>",
                            "<tr><td>95602</td><td>Francine Rivers</td><td>Mark of the Lion Trilogy</td><td>4.76</td></tr>",
                            "<tr><td>24814</td><td>Bill Watterson</td><td>It's a Magical World: A Calvin and Hobbes Collection</td><td>4.75</td></tr>",
                            "<tr><td>862041</td><td>J.K. Rowling</td><td>Harry Potter Boxset (Harry Potter, #1-7)</td><td>4.74</td></tr>",
                            "<tr><td>70489</td><td>Bill Watterson</td><td>There's Treasure Everywhere: A Calvin and Hobbes Collection</td><td>4.74</td></tr>",
                            "<tr><td>10</td><td>J.K. Rowling</td><td>Harry Potter Collection (Harry Potter, #1-6)</td><td>4.73</td></tr>",
                            "<tr><td>59715</td><td>Bill Watterson</td><td>The Authoritative Calvin and Hobbes: A Calvin and Hobbes Treasury</td><td>4.73</td></tr>",
                            "<tr><td>24815</td><td>Bill Watterson</td><td>The Indispensable Calvin and Hobbes</td><td>4.73</td></tr>",
                            "<tr><td>17927395</td><td>Sarah J. Maas</td><td>A Court of Mist and Fury (A Court of Thorns and Roses, #2)</td><td>4.72</td></tr>",
                            "<tr><td>70487</td><td>Bill Watterson</td><td>Attack of the Deranged Mutant Killer Monster Snow Goons</td><td>4.72</td></tr>",
                            "<tr><td>24816</td><td>Bill Watterson</td><td>Homicidal Psycho Jungle Cat: A Calvin and Hobbes Collection</td><td>4.71</td></tr>",
                            "<tr><td>121792</td><td>Bill Watterson</td><td>The Revenge of the Baby-Sat</td><td>4.71</td></tr>",
                            "<tr><td>2350129</td><td>The Church of Jesus Christ of Latter-day Saints</td><td>Preach My Gospel: A Guide To Missionary Service</td><td>4.71</td></tr>",
                            "<tr><td>24818</td><td>Bill Watterson</td><td>The Days Are Just Packed: A Calvin and Hobbes Collection</td><td>4.68</td></tr>",
                            "<tr><td>265205</td><td>Anonymous, Ronald A. Beers, Ronald A. Beers</td><td>Life Application Study Bible: NIV</td><td>4.67</td></tr>",
                            "<tr><td>9329354</td><td>Brandon Sanderson</td><td>The Way of Kings, Part 1 (The Stormlight Archive #1.1)</td><td>4.67</td></tr>",
                            "<tr><td>99298</td><td>J.K. Rowling, Mary GrandPré</td><td>The Harry Potter Collection 1-4 (Harry Potter, #1-4)</td><td>4.66</td></tr>",
                            "<tr><td>5883777</td><td>Anonymous</td><td>The Holy Bible: English Standard Version</td><td>4.66</td></tr>",
                            "<tr><td>24494</td><td>Bill Watterson</td><td>The Calvin and Hobbes Lazy Sunday Book</td><td>4.66</td></tr>",
                            "<tr><td>43070</td><td>Bill Watterson</td><td>The Essential Calvin and Hobbes: A Calvin and Hobbes Treasury</td><td>4.65</td></tr>",
                            "<tr><td>18337259</td><td>Daniel Abraham, George R.R. Martin, Tommy Patterson</td><td>A Game of Thrones: Comic Book, Issue 1</td><td>4.65</td></tr>",
                            "<tr><td>23753</td><td>Neil Gaiman, Mike Dringenberg, Chris Bachalo, Michael Zulli, Kelly Jones, Charles Vess, Colleen Doran, Malcolm Jones III, Steve Parkhouse, Daniel Vozzo, Lee Loughridge, Steve Oliff, Todd Klein, Dave McKean, Sam Kieth</td><td>The Absolute Sandman, Volume One</td><td>4.65</td></tr>",
                            "<tr><td>7235533</td><td>Brandon Sanderson</td><td>The Way of Kings (The Stormlight Archive, #1)</td><td>4.64</td></tr>",
                            "<tr><td>24813</td><td>Bill Watterson</td><td>The Calvin and Hobbes Tenth Anniversary Book</td><td>4.63</td></tr>",
                            "<tr><td>9814682</td><td>George R.R. Martin</td><td>A Song of Ice and Fire (A Song of Ice and Fire, #1-4)</td><td>4.63</td></tr>",
                            "<tr><td>12177850</td><td>George R.R. Martin</td><td>A Song of Ice and Fire (A Song of Ice and Fire, #1-5)</td><td>4.63</td></tr>",
                            "<tr><td>481749</td><td>James E. Talmage</td><td>Jesus the Christ</td><td>4.63</td></tr>",
                            "<tr><td>46292</td><td>Hafez</td><td>The Divan</td><td>4.63</td></tr>",
                            "<tr><td>6801614</td><td>Eiichirō Oda</td><td>One Piece, Volume 38: Rocketman!! (One Piece, #38)</td><td>4.63</td></tr>",
                            "<tr><td>22299763</td><td>Leigh Bardugo</td><td>Crooked Kingdom (Six of Crows, #2)</td><td>4.62</td></tr>",
                            "<tr><td>32075671</td><td>Angie Thomas</td><td>The Hate U Give</td><td>4.62</td></tr>",
                            "<tr><td>136251</td><td>J.K. Rowling, Mary GrandPré</td><td>Harry Potter and the Deathly Hallows (Harry Potter, #7)</td><td>4.61</td></tr>",
                            "<tr><td>77727</td><td>Bill Watterson, G.B. Trudeau</td><td>Calvin and Hobbes</td><td>4.61</td></tr>",
                            "<tr><td>280111</td><td>Anonymous</td><td>Holy Bible: New International Version</td><td>4.61</td></tr>",
                            "<tr><td>2223324</td><td>John   Williams</td><td>Harry Potter and the Chamber of Secrets: Sheet Music for Flute with C.D</td><td>4.61</td></tr>",
                            "<tr><td>6339989</td><td>Richelle Mead</td><td>Vampire Academy Collection (Vampire Academy, #1-3)</td><td>4.61</td></tr>",
                            "<tr><td>596259</td><td>Gordon B. Hinckley</td><td>Standing for Something: 10 Neglected Virtues That Will Heal Our Hearts and Homes</td><td>4.61</td></tr>",
                            "<tr><td>47697</td><td>Alisa Kwitney, Neil Gaiman</td><td>The Sandman: King of Dreams</td><td>4.61</td></tr>",
                            "<tr><td>18006496</td><td>Sarah J. Maas</td><td>Queen of Shadows (Throne of Glass, #4)</td><td>4.6</td></tr>",
                            "<tr><td>95617</td><td>Francine Rivers, Richard Ferrone</td><td>A Voice in the Wind (Mark of the Lion, #1)</td><td>4.6</td></tr>",
                            "<tr><td>46601</td><td>Francine Rivers</td><td>An Echo in the Darkness (Mark of the Lion, #2)</td><td>4.6</td></tr>",
                            "<tr><td>7025086</td><td>Christopher Yost, Pasqual Ferry, Orson Scott Card</td><td>Ender's Game, Volume 2: Command School</td><td>4.6</td></tr>",
                            "<tr><td>18335634</td><td>Cassandra Clare</td><td>Clockwork Princess (The Infernal Devices, #3)</td><td>4.59</td></tr>",
                            "<tr><td>30</td><td>J.R.R. Tolkien</td><td>J.R.R. Tolkien 4-Book Boxed Set: The Hobbit and The Lord of the Rings</td><td>4.59</td></tr>",
                            "<tr><td>2299110</td><td>Sherrilyn Kenyon</td><td>Acheron (Dark-Hunter #14)</td><td>4.59</td></tr>",
                            "<tr><td>119</td><td>Gary Russell</td><td>The Lord of the Rings: The Art of The Fellowship of the Ring</td><td>4.59</td></tr>",
                            "<tr><td>71252</td><td>Neil Gaiman, Marc Hempel, Richard Case, D'Israeli, Teddy Kristiansen, Glyn Dillon, Charles Vess, Dean Ormston, Kevin Nowlan, Todd Klein, Frank McConnell</td><td>The Kindly Ones (The Sandman #9)</td><td>4.59</td></tr>",
                            "<tr><td>349254</td><td>Jude Fisher</td><td>The Lord of the Rings: The Return of the King: Visual Companion</td><td>4.59</td></tr>",
                            "<tr><td>9832370</td><td>BookRags</td><td>BookRags Summary:  A Storm of Swords</td><td>4.59</td></tr>",
                            "<tr><td>11106458</td><td>Cassandra Clare</td><td>The Mortal Instruments (The Mortal Instruments #1-4)</td><td>4.59</td></tr>",
                            "<tr><td>14367051</td><td>Cassandra Clare</td><td>City of Bones / City of Ashes / City of Glass / City of Fallen Angels / City of Lost Souls (The Mortal Instruments, #1-5)</td><td>4.59</td></tr>",
                            "<tr><td>28260587</td><td>Sarah J. Maas</td><td>Empire of Storms (Throne of Glass, #5)</td><td>4.58</td></tr>",
                            "<tr><td>3165162</td><td>Rick Riordan</td><td>Percy Jackson and the Olympians (Percy Jackson and the Olympians, #1-3)</td><td>4.58</td></tr>",
                            "<tr><td>20342617</td><td>Bryan Stevenson</td><td>Just Mercy: A Story of Justice and Redemption</td><td>4.58</td></tr>",
                            "<tr><td>17961</td><td>Jorge Luis Borges, Andrew Hurley</td><td>Collected Fictions</td><td>4.58</td></tr>",
                            "<tr><td>4808763</td><td>Isaac Asimov, Bob E. Flick, Jim Gallant</td><td>The Last Question</td><td>4.58</td></tr>",
                            "<tr><td>15767586</td><td>Sherrilyn Kenyon</td><td>Styxx (Dark-Hunter, #22)</td><td>4.58</td></tr>",
                            "<tr><td>892295</td><td>Arthur Conan Doyle, William S. Baring-Gould</td><td>The Annotated Sherlock Holmes: The Four Novels and the Fifty-Six Short Stories Complete (2 Volume Set)</td><td>4.58</td></tr>",
                            "<tr><td>1215032</td><td>Patrick Rothfuss</td><td>The Wise Man's Fear (The Kingkiller Chronicle, #2)</td><td>4.57</td></tr>",
                            "<tr><td>6485421</td><td>Cassandra Clare</td><td>The Mortal Instruments Boxed Set: City of Bones; City of Ashes; City of Glass (The Mortal Instruments, #1-3)</td><td>4.57</td></tr>",
                            "<tr><td>17131869</td><td>Brian K. Vaughan, Fiona Staples</td><td>Saga, Vol. 2 (Saga, #2)</td><td>4.57</td></tr>",
                            "<tr><td>8718952</td><td>Richelle Mead</td><td>Vampire Academy Box Set (Vampire Academy, #1-4)</td><td>4.57</td></tr>",
                            "<tr><td>4634266</td><td>Masashi Kishimoto</td><td>NARUTO -ナルト- 巻ノ四十三</td><td>4.57</td></tr>",
                            "<tr><td>6443349</td><td>Rick Riordan, Tk</td><td>Percy Jackson and the Olympians Boxed Set (Percy Jackson and the Olympians, #1-5)</td><td>4.57</td></tr>",
                            "<tr><td>545425</td><td>Safiy al-Rahman al-Mubarakfuri</td><td>الرحيق المختوم</td><td>4.57</td></tr>",
                            "<tr><td>17333174</td><td>Ilona Andrews</td><td>Magic Binds (Kate Daniels, #9)</td><td>4.57</td></tr>",
                            "<tr><td>147915</td><td>George R.R. Martin</td><td>A Storm of Swords: Blood and Gold (A Song of Ice and Fire, #3: Part 2 of 2)</td><td>4.56</td></tr>",
                            "<tr><td>19358975</td><td>Brian K. Vaughan, Fiona Staples</td><td>Saga, Vol. 3 (Saga, #3)</td><td>4.56</td></tr>",
                            "<tr><td>10785687</td><td>Bob McCabe</td><td>Harry Potter Page to Screen: The Complete Filmmaking Journey</td><td>4.56</td></tr>",
                            "<tr><td>17880714</td><td>K. Bromberg</td><td>Crashed (Driven, #3)</td><td>4.56</td></tr>",
                            "<tr><td>1317181</td><td>J.K. Rowling</td><td>Harry Potter and the Order of the Phoenix (Harry Potter, #5, Part 1)</td><td>4.56</td></tr>",
                            "<tr><td>15743078</td><td>Veronica Roth</td><td>The Divergent Series 2-Book Collection (Divergent, #1-2)</td><td>4.56</td></tr>",
                            "<tr><td>29236299</td><td>Amie Kaufman, Jay Kristoff, Marie Lu</td><td>Gemina (The Illuminae Files, #2)</td><td>4.56</td></tr>",
                            "<tr><td>186074</td><td>Patrick Rothfuss</td><td>The Name of the Wind (The Kingkiller Chronicle, #1)</td><td>4.55</td></tr>",
                            "<tr><td>19486421</td><td>Jim Butcher</td><td>Skin Game (The Dresden Files, #15)</td><td>4.55</td></tr>",
                            "<tr><td>6604209</td><td>Brandon Sanderson</td><td>Mistborn Trilogy Boxed Set (Mistborn, #1-3)</td><td>4.55</td></tr>",
                            "<tr><td>25105</td><td>Neil Gaiman, Jill Thompson, Vince Locke, Peter Straub</td><td>Brief Lives (The Sandman #7)</td><td>4.55</td></tr>",
                            "<tr><td>8346300</td><td>Andrew Williamson, Andrew Williamson</td><td>Harry Potter: A Pop-Up Book: Based on the Film Phenomenon</td><td>4.55</td></tr>",
                            "<tr><td>14905</td><td>Jane Austen</td><td>The Complete Novels</td><td>4.55</td></tr>",
                            "<tr><td>13184992</td><td>Kristen Ashley</td><td>Rock Chick Regret (Rock Chick, #7)</td><td>4.55</td></tr>",
                            "<tr><td>71823</td><td>Stephen King</td><td>The Green Mile, Part 6: Coffey on the Mile</td><td>4.55</td></tr>",
                            "<tr><td>1</td><td>J.K. Rowling, Mary GrandPré</td><td>Harry Potter and the Half-Blood Prince (Harry Potter, #6)</td><td>4.54</td></tr>",
                            "<tr><td>62291</td><td>George R.R. Martin</td><td>A Storm of Swords (A Song of Ice and Fire, #3)</td><td>4.54</td></tr>",
                            "<tr><td>21853621</td><td>Kristin Hannah</td><td>The Nightingale</td><td>4.54</td></tr>",
                            "<tr><td>12127810</td><td>Rick Riordan</td><td>The House of Hades (The Heroes of Olympus, #4)</td><td>4.54</td></tr>",
                            "<tr><td>6585201</td><td>Jim Butcher</td><td>Changes (The Dresden Files, #12)</td><td>4.54</td></tr>",
                            "<tr><td>381421</td><td>Sarah  Young</td><td>Jesus Calling: Enjoying Peace in His Presence</td><td>4.54</td></tr>",
                            "<tr><td>25101</td><td>Neil Gaiman, Matt Wagner, George Pratt, Dick Giordano, Kelley Jones, P. Craig Russell, Mike Dringenberg, Malcolm Jones III, Todd Klein, Harlan Ellison</td><td>Season of Mists (The Sandman #4)</td><td>4.54</td></tr>",
                            "<tr><td>89959</td><td>Founding Fathers</td><td>The Constitution of the United States of America</td><td>4.54</td></tr>",
                            "<tr><td>23766634</td><td>Sarah J. Maas</td><td>A Court of Wings and Ruin (A Court of Thorns and Roses, #3)</td><td>4.54</td></tr>",
                            "<tr><td>20706320</td><td>Chris Colfer, Brandon Dorman</td><td>A Grimm Warning (The Land of Stories, #3)</td><td>4.54</td></tr>",
                            "<tr><td>8163161</td><td>Bisco Hatori</td><td>Ouran High School Host Club, Vol. 15 (Ouran High School Host Club, #15)</td><td>4.54</td></tr>",
                            "<tr><td>5</td><td>J.K. Rowling, Mary GrandPré, Rufus Beck</td><td>Harry Potter and the Prisoner of Azkaban (Harry Potter, #3)</td><td>4.53</td></tr>",
                            "<tr><td>6</td><td>J.K. Rowling, Mary GrandPré</td><td>Harry Potter and the Goblet of Fire (Harry Potter, #4)</td><td>4.53</td></tr>",
                            "<tr><td>20613470</td><td>Sarah J. Maas</td><td>Heir of Fire (Throne of Glass, #3)</td><td>4.53</td></tr>",
                            "<tr><td>15195</td><td>Art Spiegelman</td><td>The Complete Maus (Maus, #1-2)</td><td>4.53</td></tr>",
                            "<tr><td>25104</td><td>Neil Gaiman, Michael Zulli, Jon J. Muth, Charles Vess, Mikal Gilmore</td><td>The Wake (The Sandman #10)</td><td>4.53</td></tr>",
                            "</table>"
                        ]
                    }
                }
            ],
            "execution_count": 4
        },
        {
            "cell_type": "markdown",
            "source": [
                "Question 2: Write a query to find the least popular book."
            ],
            "metadata": {
                "azdata_cell_guid": "777429b8-8622-489d-9c49-e2acecd7f17e"
            },
            "attachments": {}
        },
        {
            "cell_type": "code",
            "source": [
                "-- return least popular book\n",
                "SELECT TOP 100 book_id AS 'ID', authors AS 'Authors', title AS 'Title', average_rating AS 'Avg. Rating'\n",
                "FROM BooksDB.dbo.books\n",
                "ORDER BY (average_rating)ASC;"
            ],
            "metadata": {
                "azdata_cell_guid": "c78a1779-db74-470f-a60a-7c72a43d774b",
                "language": "sql"
            },
            "outputs": [
                {
                    "output_type": "display_data",
                    "data": {
                        "text/html": "(100 rows affected)"
                    },
                    "metadata": {}
                },
                {
                    "output_type": "display_data",
                    "data": {
                        "text/html": "Total execution time: 00:00:00.046"
                    },
                    "metadata": {}
                },
                {
                    "output_type": "execute_result",
                    "metadata": {},
                    "execution_count": 3,
                    "data": {
                        "application/vnd.dataresource+json": {
                            "schema": {
                                "fields": [
                                    {
                                        "name": "ID"
                                    },
                                    {
                                        "name": "Authors"
                                    },
                                    {
                                        "name": "Title"
                                    },
                                    {
                                        "name": "Avg. Rating"
                                    }
                                ]
                            },
                            "data": [
                                {
                                    "ID": "105578",
                                    "Authors": "Chetan Bhagat",
                                    "Title": "One Night at the Call Center",
                                    "Avg. Rating": "2.47"
                                },
                                {
                                    "ID": "783291",
                                    "Authors": "Alice Sebold",
                                    "Title": "The Almost Moon",
                                    "Avg. Rating": "2.67"
                                },
                                {
                                    "ID": "8664368",
                                    "Authors": "Howard Jacobson",
                                    "Title": "The Finkler Question",
                                    "Avg. Rating": "2.76"
                                },
                                {
                                    "ID": "6613",
                                    "Authors": "Candace Bushnell",
                                    "Title": "Four Blondes",
                                    "Avg. Rating": "2.8"
                                },
                                {
                                    "ID": "24929",
                                    "Authors": "Gregory Maguire, Douglas Smith",
                                    "Title": "Lost",
                                    "Avg. Rating": "2.8"
                                },
                                {
                                    "ID": "16130307",
                                    "Authors": "Lauren Weisberger",
                                    "Title": "Revenge Wears Prada: The Devil Returns (The Devil Wears Prada, #2)",
                                    "Avg. Rating": "2.84"
                                },
                                {
                                    "ID": "23503361",
                                    "Authors": "Julia Pierpont",
                                    "Title": "Among the Ten Thousand Things",
                                    "Avg. Rating": "2.84"
                                },
                                {
                                    "ID": "6855294",
                                    "Authors": "Chuck Palahniuk",
                                    "Title": "Tell-All",
                                    "Avg. Rating": "2.84"
                                },
                                {
                                    "ID": "3648",
                                    "Authors": "Claire Messud",
                                    "Title": "The Emperor's Children",
                                    "Avg. Rating": "2.93"
                                },
                                {
                                    "ID": "12878667",
                                    "Authors": "Mark Haddon",
                                    "Title": "The Red House",
                                    "Avg. Rating": "2.93"
                                },
                                {
                                    "ID": "4601396",
                                    "Authors": "Chuck Palahniuk",
                                    "Title": "Pygmy",
                                    "Avg. Rating": "2.96"
                                },
                                {
                                    "ID": "3320520",
                                    "Authors": "Chetan Bhagat",
                                    "Title": "The 3 Mistakes of My Life",
                                    "Avg. Rating": "2.97"
                                },
                                {
                                    "ID": "19523454",
                                    "Authors": "Chuck Palahniuk",
                                    "Title": "Beautiful You",
                                    "Avg. Rating": "2.98"
                                },
                                {
                                    "ID": "5557442",
                                    "Authors": "يوسف زيدان",
                                    "Title": "ظل الأفعى",
                                    "Avg. Rating": "3"
                                },
                                {
                                    "ID": "20819682",
                                    "Authors": "Paulo Coelho",
                                    "Title": "Adultery",
                                    "Avg. Rating": "3.01"
                                },
                                {
                                    "ID": "12712435",
                                    "Authors": "Maggie Shipstead",
                                    "Title": "Seating Arrangements",
                                    "Avg. Rating": "3.02"
                                },
                                {
                                    "ID": "998133",
                                    "Authors": "Anne Enright",
                                    "Title": "The Gathering",
                                    "Avg. Rating": "3.04"
                                },
                                {
                                    "ID": "7824768",
                                    "Authors": "خالد الباتلي",
                                    "Title": "ليتها تقرأ",
                                    "Avg. Rating": "3.04"
                                },
                                {
                                    "ID": "23492673",
                                    "Authors": "Wednesday Martin",
                                    "Title": "Primates of Park Avenue",
                                    "Avg. Rating": "3.05"
                                },
                                {
                                    "ID": "12615008",
                                    "Authors": "Chetan Bhagat",
                                    "Title": "Revolution 2020: Love, Corruption, Ambition",
                                    "Avg. Rating": "3.07"
                                },
                                {
                                    "ID": "2152",
                                    "Authors": "Karen Joy Fowler",
                                    "Title": "The Jane Austen Book Club",
                                    "Avg. Rating": "3.07"
                                },
                                {
                                    "ID": "14963",
                                    "Authors": "Anita Shreve",
                                    "Title": "A Wedding in December",
                                    "Avg. Rating": "3.08"
                                },
                                {
                                    "ID": "18453074",
                                    "Authors": "Joshua Ferris",
                                    "Title": "To Rise Again at a Decent Hour",
                                    "Avg. Rating": "3.08"
                                },
                                {
                                    "ID": "15613",
                                    "Authors": "Herman Melville",
                                    "Title": "Billy Budd, Sailor",
                                    "Avg. Rating": "3.09"
                                },
                                {
                                    "ID": "6976",
                                    "Authors": "Sue Monk Kidd",
                                    "Title": "The Mermaid Chair",
                                    "Avg. Rating": "3.1"
                                },
                                {
                                    "ID": "13489517",
                                    "Authors": "أحمد حلمي",
                                    "Title": "28 حرف",
                                    "Avg. Rating": "3.1"
                                },
                                {
                                    "ID": "4530",
                                    "Authors": "Helen Fielding",
                                    "Title": "Olivia Joules and the Overactive Imagination",
                                    "Avg. Rating": "3.1"
                                },
                                {
                                    "ID": "18465657",
                                    "Authors": "Emily Giffin",
                                    "Title": "The One & Only",
                                    "Avg. Rating": "3.11"
                                },
                                {
                                    "ID": "10047589",
                                    "Authors": "Jennifer Close",
                                    "Title": "Girls in White Dresses",
                                    "Avg. Rating": "3.12"
                                },
                                {
                                    "ID": "18656036",
                                    "Authors": "Megan Abbott",
                                    "Title": "The Fever",
                                    "Avg. Rating": "3.12"
                                },
                                {
                                    "ID": "54270",
                                    "Authors": "Adolf Hitler",
                                    "Title": "Mein Kampf",
                                    "Avg. Rating": "3.13"
                                },
                                {
                                    "ID": "18295858",
                                    "Authors": "Emma Donoghue",
                                    "Title": "Frog Music",
                                    "Avg. Rating": "3.13"
                                },
                                {
                                    "ID": "7176578",
                                    "Authors": "Yann Martel",
                                    "Title": "Beatrice and Virgil",
                                    "Avg. Rating": "3.13"
                                },
                                {
                                    "ID": "18641982",
                                    "Authors": "Emma Straub",
                                    "Title": "The Vacationers",
                                    "Avg. Rating": "3.14"
                                },
                                {
                                    "ID": "6076387",
                                    "Authors": "Lorrie Moore",
                                    "Title": "A Gate at the Stairs",
                                    "Avg. Rating": "3.14"
                                },
                                {
                                    "ID": "7519866",
                                    "Authors": "Bret Easton Ellis",
                                    "Title": "Imperial Bedrooms ",
                                    "Avg. Rating": "3.14"
                                },
                                {
                                    "ID": "13151283",
                                    "Authors": "محمد صادق",
                                    "Title": "بضع ساعات في يوم ما",
                                    "Avg. Rating": "3.14"
                                },
                                {
                                    "ID": "3710",
                                    "Authors": "Zadie Smith",
                                    "Title": "The Autograph Man",
                                    "Avg. Rating": "3.14"
                                },
                                {
                                    "ID": "25131600",
                                    "Authors": "Chuck Wendig",
                                    "Title": "Aftermath (Star Wars: Aftermath, #1)",
                                    "Avg. Rating": "3.15"
                                },
                                {
                                    "ID": "22874559",
                                    "Authors": "Chetan Bhagat",
                                    "Title": "Half Girlfriend",
                                    "Avg. Rating": "3.16"
                                },
                                {
                                    "ID": "5396496",
                                    "Authors": "Christos Tsiolkas",
                                    "Title": "The Slap",
                                    "Avg. Rating": "3.16"
                                },
                                {
                                    "ID": "16076787",
                                    "Authors": "أحمد خالد توفيق",
                                    "Title": "السنجة",
                                    "Avg. Rating": "3.16"
                                },
                                {
                                    "ID": "10209997",
                                    "Authors": "Chris Bohjalian",
                                    "Title": "The Night Strangers",
                                    "Avg. Rating": "3.16"
                                },
                                {
                                    "ID": "6365221",
                                    "Authors": "Rhoda Janzen",
                                    "Title": "Mennonite in a Little Black Dress: A Memoir of Going Home",
                                    "Avg. Rating": "3.17"
                                },
                                {
                                    "ID": "1476261",
                                    "Authors": "Rajaa Alsanea",
                                    "Title": "Girls of Riyadh",
                                    "Avg. Rating": "3.17"
                                },
                                {
                                    "ID": "1840511",
                                    "Authors": "Chuck Palahniuk",
                                    "Title": "Snuff",
                                    "Avg. Rating": "3.18"
                                },
                                {
                                    "ID": "4268",
                                    "Authors": "Nick Hornby",
                                    "Title": "How to Be Good",
                                    "Avg. Rating": "3.18"
                                },
                                {
                                    "ID": "12923",
                                    "Authors": "Horace Walpole",
                                    "Title": "The Castle of Otranto",
                                    "Avg. Rating": "3.18"
                                },
                                {
                                    "ID": "443540",
                                    "Authors": "Anita Shreve",
                                    "Title": "All He Ever Wanted",
                                    "Avg. Rating": "3.18"
                                },
                                {
                                    "ID": "7048800",
                                    "Authors": "Aimee Bender",
                                    "Title": "The Particular Sadness of Lemon Cake",
                                    "Avg. Rating": "3.19"
                                },
                                {
                                    "ID": "28449270",
                                    "Authors": "Maria Semple",
                                    "Title": "Today Will Be Different",
                                    "Avg. Rating": "3.19"
                                },
                                {
                                    "ID": "10914",
                                    "Authors": "Jodi Picoult",
                                    "Title": "Songs of the Humpback Whale",
                                    "Avg. Rating": "3.19"
                                },
                                {
                                    "ID": "178813",
                                    "Authors": "Candace Bushnell",
                                    "Title": "Trading Up",
                                    "Avg. Rating": "3.2"
                                },
                                {
                                    "ID": "12888599",
                                    "Authors": "Charlotte Rogan",
                                    "Title": "The Lifeboat",
                                    "Avg. Rating": "3.2"
                                },
                                {
                                    "ID": "28700",
                                    "Authors": "Don DeLillo, محمدصادق رئیسی",
                                    "Title": "Falling Man",
                                    "Avg. Rating": "3.2"
                                },
                                {
                                    "ID": "35220",
                                    "Authors": "Stephen Crane",
                                    "Title": "The Red Badge of Courage",
                                    "Avg. Rating": "3.21"
                                },
                                {
                                    "ID": "12875355",
                                    "Authors": "P.D. James",
                                    "Title": "Death Comes to Pemberley",
                                    "Avg. Rating": "3.21"
                                },
                                {
                                    "ID": "8584686",
                                    "Authors": "Karen Russell",
                                    "Title": "Swamplandia!",
                                    "Avg. Rating": "3.21"
                                },
                                {
                                    "ID": "18316089",
                                    "Authors": "Amy Bloom",
                                    "Title": "Lucky Us",
                                    "Avg. Rating": "3.21"
                                },
                                {
                                    "ID": "7011879",
                                    "Authors": "Durjoy Datta, Maanvi Ahuja",
                                    "Title": "Of Course I Love You...! Till I Find Someone Better...",
                                    "Avg. Rating": "3.21"
                                },
                                {
                                    "ID": "52367",
                                    "Authors": "Frank Miller, Lynn Varley",
                                    "Title": "Batman: The Dark Knight Strikes Again (The Dark Knight Saga, #2)",
                                    "Avg. Rating": "3.21"
                                },
                                {
                                    "ID": "15797938",
                                    "Authors": "Herman Koch, Sam Garrett",
                                    "Title": "The Dinner",
                                    "Avg. Rating": "3.22"
                                },
                                {
                                    "ID": "18431",
                                    "Authors": "Ian Caldwell, Dustin Thomason",
                                    "Title": "The Rule of Four",
                                    "Avg. Rating": "3.22"
                                },
                                {
                                    "ID": "18774020",
                                    "Authors": "Edan Lepucki",
                                    "Title": "California",
                                    "Avg. Rating": "3.22"
                                },
                                {
                                    "ID": "28703",
                                    "Authors": "Don DeLillo",
                                    "Title": "Cosmopolis",
                                    "Avg. Rating": "3.22"
                                },
                                {
                                    "ID": "4660",
                                    "Authors": "John Irving",
                                    "Title": "The 158-Pound Marriage",
                                    "Avg. Rating": "3.22"
                                },
                                {
                                    "ID": "6202342",
                                    "Authors": "Audrey Niffenegger",
                                    "Title": "Her Fearful Symmetry",
                                    "Avg. Rating": "3.23"
                                },
                                {
                                    "ID": "7140754",
                                    "Authors": "Ian McEwan",
                                    "Title": "Solar",
                                    "Avg. Rating": "3.23"
                                },
                                {
                                    "ID": "12982393",
                                    "Authors": "Megan Abbott",
                                    "Title": "Dare Me",
                                    "Avg. Rating": "3.23"
                                },
                                {
                                    "ID": "1402668",
                                    "Authors": "Madeleine Wickham",
                                    "Title": "The Gatecrasher",
                                    "Avg. Rating": "3.24"
                                },
                                {
                                    "ID": "8318666",
                                    "Authors": "Jean M. Auel",
                                    "Title": "The Land of Painted Caves (Earth's Children, #6)",
                                    "Avg. Rating": "3.24"
                                },
                                {
                                    "ID": "21064599",
                                    "Authors": "Sophie Kinsella",
                                    "Title": "Shopaholic to the Stars (Shopaholic, #7)",
                                    "Avg. Rating": "3.24"
                                },
                                {
                                    "ID": "194086",
                                    "Authors": "Madeleine Wickham",
                                    "Title": "Sleeping Arrangements",
                                    "Avg. Rating": "3.24"
                                },
                                {
                                    "ID": "347143",
                                    "Authors": "Tom Perrotta",
                                    "Title": "The Abstinence Teacher",
                                    "Avg. Rating": "3.24"
                                },
                                {
                                    "ID": "17412188",
                                    "Authors": "S.J. Watson",
                                    "Title": "Second Life",
                                    "Avg. Rating": "3.24"
                                },
                                {
                                    "ID": "18090150",
                                    "Authors": "Isabel Allende, Oliver Brock, Frank Wynne",
                                    "Title": "Ripper",
                                    "Avg. Rating": "3.24"
                                },
                                {
                                    "ID": "22725443",
                                    "Authors": "Jill Alexander Essbaum",
                                    "Title": "Hausfrau",
                                    "Avg. Rating": "3.24"
                                },
                                {
                                    "ID": "4929705",
                                    "Authors": "Robert Goolrick",
                                    "Title": "A Reliable Wife",
                                    "Avg. Rating": "3.25"
                                },
                                {
                                    "ID": "207034",
                                    "Authors": "Jeanne DuPrau",
                                    "Title": "The Prophet of Yonwood (Book of Ember, #3)",
                                    "Avg. Rating": "3.25"
                                },
                                {
                                    "ID": "10365343",
                                    "Authors": "Colson Whitehead",
                                    "Title": "Zone One",
                                    "Avg. Rating": "3.25"
                                },
                                {
                                    "ID": "381704",
                                    "Authors": "Plum Sykes",
                                    "Title": "Bergdorf Blondes",
                                    "Avg. Rating": "3.26"
                                },
                                {
                                    "ID": "16131193",
                                    "Authors": "Lily Koppel",
                                    "Title": "The Astronaut Wives Club",
                                    "Avg. Rating": "3.26"
                                },
                                {
                                    "ID": "31333",
                                    "Authors": "Anne Rice",
                                    "Title": "Violin",
                                    "Avg. Rating": "3.26"
                                },
                                {
                                    "ID": "15858",
                                    "Authors": "Gregory Maguire",
                                    "Title": "Mirror Mirror",
                                    "Avg. Rating": "3.27"
                                },
                                {
                                    "ID": "411527",
                                    "Authors": "Nick Hornby",
                                    "Title": "Slam",
                                    "Avg. Rating": "3.27"
                                },
                                {
                                    "ID": "13497818",
                                    "Authors": "J.K. Rowling",
                                    "Title": "The Casual Vacancy",
                                    "Avg. Rating": "3.28"
                                },
                                {
                                    "ID": "5899779",
                                    "Authors": "Seth Grahame-Smith, Jane Austen",
                                    "Title": "Pride and Prejudice and Zombies (Pride and Prejudice and Zombies, #1)",
                                    "Avg. Rating": "3.28"
                                },
                                {
                                    "ID": "26582",
                                    "Authors": "A.N. Roquelaure, Anne Rice",
                                    "Title": "The Claiming of Sleeping Beauty (Sleeping Beauty, #1)",
                                    "Avg. Rating": "3.28"
                                },
                                {
                                    "ID": "26192646",
                                    "Authors": "Stephanie Danler",
                                    "Title": "Sweetbitter",
                                    "Avg. Rating": "3.28"
                                },
                                {
                                    "ID": "10574",
                                    "Authors": "Stephen King",
                                    "Title": "The Colorado Kid (Hard Case Crime #13)",
                                    "Avg. Rating": "3.28"
                                },
                                {
                                    "ID": "16188",
                                    "Authors": "Philippa Gregory",
                                    "Title": "Wideacre  (The Wideacre Trilogy, #1)",
                                    "Avg. Rating": "3.28"
                                },
                                {
                                    "ID": "392217",
                                    "Authors": "Patricia Cornwell",
                                    "Title": "Hornet's Nest (Andy Brazil, #1)",
                                    "Avg. Rating": "3.28"
                                },
                                {
                                    "ID": "2508164",
                                    "Authors": "Tonya Hurley",
                                    "Title": "Ghostgirl (Ghostgirl, #1)",
                                    "Avg. Rating": "3.28"
                                },
                                {
                                    "ID": "6922622",
                                    "Authors": "Sarah Palin, Lynn Vincent, Dewey Whetsell",
                                    "Title": "Going Rogue: An American Life",
                                    "Avg. Rating": "3.28"
                                },
                                {
                                    "ID": "33926",
                                    "Authors": "Melissa Bank",
                                    "Title": "The Girls' Guide to Hunting and Fishing",
                                    "Avg. Rating": "3.29"
                                },
                                {
                                    "ID": "13722902",
                                    "Authors": "Dave Eggers",
                                    "Title": "A Hologram for the King",
                                    "Avg. Rating": "3.29"
                                },
                                {
                                    "ID": "3124249",
                                    "Authors": "Gregory Maguire, Douglas Smith",
                                    "Title": "A Lion Among Men (The Wicked Years, #3)",
                                    "Avg. Rating": "3.29"
                                },
                                {
                                    "ID": "11166890",
                                    "Authors": "Dean Koontz",
                                    "Title": "77 Shadow Street (Pendleton, #1)",
                                    "Avg. Rating": "3.29"
                                },
                                {
                                    "ID": "70509",
                                    "Authors": "Gary Shteyngart",
                                    "Title": "Absurdistan",
                                    "Avg. Rating": "3.29"
                                },
                                {
                                    "ID": "17182421",
                                    "Authors": "Jason Mott",
                                    "Title": "The Returned",
                                    "Avg. Rating": "3.29"
                                }
                            ]
                        },
                        "text/html": [
                            "<table>",
                            "<tr><th>ID</th><th>Authors</th><th>Title</th><th>Avg. Rating</th></tr>",
                            "<tr><td>105578</td><td>Chetan Bhagat</td><td>One Night at the Call Center</td><td>2.47</td></tr>",
                            "<tr><td>783291</td><td>Alice Sebold</td><td>The Almost Moon</td><td>2.67</td></tr>",
                            "<tr><td>8664368</td><td>Howard Jacobson</td><td>The Finkler Question</td><td>2.76</td></tr>",
                            "<tr><td>6613</td><td>Candace Bushnell</td><td>Four Blondes</td><td>2.8</td></tr>",
                            "<tr><td>24929</td><td>Gregory Maguire, Douglas Smith</td><td>Lost</td><td>2.8</td></tr>",
                            "<tr><td>16130307</td><td>Lauren Weisberger</td><td>Revenge Wears Prada: The Devil Returns (The Devil Wears Prada, #2)</td><td>2.84</td></tr>",
                            "<tr><td>23503361</td><td>Julia Pierpont</td><td>Among the Ten Thousand Things</td><td>2.84</td></tr>",
                            "<tr><td>6855294</td><td>Chuck Palahniuk</td><td>Tell-All</td><td>2.84</td></tr>",
                            "<tr><td>3648</td><td>Claire Messud</td><td>The Emperor's Children</td><td>2.93</td></tr>",
                            "<tr><td>12878667</td><td>Mark Haddon</td><td>The Red House</td><td>2.93</td></tr>",
                            "<tr><td>4601396</td><td>Chuck Palahniuk</td><td>Pygmy</td><td>2.96</td></tr>",
                            "<tr><td>3320520</td><td>Chetan Bhagat</td><td>The 3 Mistakes of My Life</td><td>2.97</td></tr>",
                            "<tr><td>19523454</td><td>Chuck Palahniuk</td><td>Beautiful You</td><td>2.98</td></tr>",
                            "<tr><td>5557442</td><td>يوسف زيدان</td><td>ظل الأفعى</td><td>3</td></tr>",
                            "<tr><td>20819682</td><td>Paulo Coelho</td><td>Adultery</td><td>3.01</td></tr>",
                            "<tr><td>12712435</td><td>Maggie Shipstead</td><td>Seating Arrangements</td><td>3.02</td></tr>",
                            "<tr><td>998133</td><td>Anne Enright</td><td>The Gathering</td><td>3.04</td></tr>",
                            "<tr><td>7824768</td><td>خالد الباتلي</td><td>ليتها تقرأ</td><td>3.04</td></tr>",
                            "<tr><td>23492673</td><td>Wednesday Martin</td><td>Primates of Park Avenue</td><td>3.05</td></tr>",
                            "<tr><td>12615008</td><td>Chetan Bhagat</td><td>Revolution 2020: Love, Corruption, Ambition</td><td>3.07</td></tr>",
                            "<tr><td>2152</td><td>Karen Joy Fowler</td><td>The Jane Austen Book Club</td><td>3.07</td></tr>",
                            "<tr><td>14963</td><td>Anita Shreve</td><td>A Wedding in December</td><td>3.08</td></tr>",
                            "<tr><td>18453074</td><td>Joshua Ferris</td><td>To Rise Again at a Decent Hour</td><td>3.08</td></tr>",
                            "<tr><td>15613</td><td>Herman Melville</td><td>Billy Budd, Sailor</td><td>3.09</td></tr>",
                            "<tr><td>6976</td><td>Sue Monk Kidd</td><td>The Mermaid Chair</td><td>3.1</td></tr>",
                            "<tr><td>13489517</td><td>أحمد حلمي</td><td>28 حرف</td><td>3.1</td></tr>",
                            "<tr><td>4530</td><td>Helen Fielding</td><td>Olivia Joules and the Overactive Imagination</td><td>3.1</td></tr>",
                            "<tr><td>18465657</td><td>Emily Giffin</td><td>The One &amp; Only</td><td>3.11</td></tr>",
                            "<tr><td>10047589</td><td>Jennifer Close</td><td>Girls in White Dresses</td><td>3.12</td></tr>",
                            "<tr><td>18656036</td><td>Megan Abbott</td><td>The Fever</td><td>3.12</td></tr>",
                            "<tr><td>54270</td><td>Adolf Hitler</td><td>Mein Kampf</td><td>3.13</td></tr>",
                            "<tr><td>18295858</td><td>Emma Donoghue</td><td>Frog Music</td><td>3.13</td></tr>",
                            "<tr><td>7176578</td><td>Yann Martel</td><td>Beatrice and Virgil</td><td>3.13</td></tr>",
                            "<tr><td>18641982</td><td>Emma Straub</td><td>The Vacationers</td><td>3.14</td></tr>",
                            "<tr><td>6076387</td><td>Lorrie Moore</td><td>A Gate at the Stairs</td><td>3.14</td></tr>",
                            "<tr><td>7519866</td><td>Bret Easton Ellis</td><td>Imperial Bedrooms </td><td>3.14</td></tr>",
                            "<tr><td>13151283</td><td>محمد صادق</td><td>بضع ساعات في يوم ما</td><td>3.14</td></tr>",
                            "<tr><td>3710</td><td>Zadie Smith</td><td>The Autograph Man</td><td>3.14</td></tr>",
                            "<tr><td>25131600</td><td>Chuck Wendig</td><td>Aftermath (Star Wars: Aftermath, #1)</td><td>3.15</td></tr>",
                            "<tr><td>22874559</td><td>Chetan Bhagat</td><td>Half Girlfriend</td><td>3.16</td></tr>",
                            "<tr><td>5396496</td><td>Christos Tsiolkas</td><td>The Slap</td><td>3.16</td></tr>",
                            "<tr><td>16076787</td><td>أحمد خالد توفيق</td><td>السنجة</td><td>3.16</td></tr>",
                            "<tr><td>10209997</td><td>Chris Bohjalian</td><td>The Night Strangers</td><td>3.16</td></tr>",
                            "<tr><td>6365221</td><td>Rhoda Janzen</td><td>Mennonite in a Little Black Dress: A Memoir of Going Home</td><td>3.17</td></tr>",
                            "<tr><td>1476261</td><td>Rajaa Alsanea</td><td>Girls of Riyadh</td><td>3.17</td></tr>",
                            "<tr><td>1840511</td><td>Chuck Palahniuk</td><td>Snuff</td><td>3.18</td></tr>",
                            "<tr><td>4268</td><td>Nick Hornby</td><td>How to Be Good</td><td>3.18</td></tr>",
                            "<tr><td>12923</td><td>Horace Walpole</td><td>The Castle of Otranto</td><td>3.18</td></tr>",
                            "<tr><td>443540</td><td>Anita Shreve</td><td>All He Ever Wanted</td><td>3.18</td></tr>",
                            "<tr><td>7048800</td><td>Aimee Bender</td><td>The Particular Sadness of Lemon Cake</td><td>3.19</td></tr>",
                            "<tr><td>28449270</td><td>Maria Semple</td><td>Today Will Be Different</td><td>3.19</td></tr>",
                            "<tr><td>10914</td><td>Jodi Picoult</td><td>Songs of the Humpback Whale</td><td>3.19</td></tr>",
                            "<tr><td>178813</td><td>Candace Bushnell</td><td>Trading Up</td><td>3.2</td></tr>",
                            "<tr><td>12888599</td><td>Charlotte Rogan</td><td>The Lifeboat</td><td>3.2</td></tr>",
                            "<tr><td>28700</td><td>Don DeLillo, محمدصادق رئیسی</td><td>Falling Man</td><td>3.2</td></tr>",
                            "<tr><td>35220</td><td>Stephen Crane</td><td>The Red Badge of Courage</td><td>3.21</td></tr>",
                            "<tr><td>12875355</td><td>P.D. James</td><td>Death Comes to Pemberley</td><td>3.21</td></tr>",
                            "<tr><td>8584686</td><td>Karen Russell</td><td>Swamplandia!</td><td>3.21</td></tr>",
                            "<tr><td>18316089</td><td>Amy Bloom</td><td>Lucky Us</td><td>3.21</td></tr>",
                            "<tr><td>7011879</td><td>Durjoy Datta, Maanvi Ahuja</td><td>Of Course I Love You...! Till I Find Someone Better...</td><td>3.21</td></tr>",
                            "<tr><td>52367</td><td>Frank Miller, Lynn Varley</td><td>Batman: The Dark Knight Strikes Again (The Dark Knight Saga, #2)</td><td>3.21</td></tr>",
                            "<tr><td>15797938</td><td>Herman Koch, Sam Garrett</td><td>The Dinner</td><td>3.22</td></tr>",
                            "<tr><td>18431</td><td>Ian Caldwell, Dustin Thomason</td><td>The Rule of Four</td><td>3.22</td></tr>",
                            "<tr><td>18774020</td><td>Edan Lepucki</td><td>California</td><td>3.22</td></tr>",
                            "<tr><td>28703</td><td>Don DeLillo</td><td>Cosmopolis</td><td>3.22</td></tr>",
                            "<tr><td>4660</td><td>John Irving</td><td>The 158-Pound Marriage</td><td>3.22</td></tr>",
                            "<tr><td>6202342</td><td>Audrey Niffenegger</td><td>Her Fearful Symmetry</td><td>3.23</td></tr>",
                            "<tr><td>7140754</td><td>Ian McEwan</td><td>Solar</td><td>3.23</td></tr>",
                            "<tr><td>12982393</td><td>Megan Abbott</td><td>Dare Me</td><td>3.23</td></tr>",
                            "<tr><td>1402668</td><td>Madeleine Wickham</td><td>The Gatecrasher</td><td>3.24</td></tr>",
                            "<tr><td>8318666</td><td>Jean M. Auel</td><td>The Land of Painted Caves (Earth's Children, #6)</td><td>3.24</td></tr>",
                            "<tr><td>21064599</td><td>Sophie Kinsella</td><td>Shopaholic to the Stars (Shopaholic, #7)</td><td>3.24</td></tr>",
                            "<tr><td>194086</td><td>Madeleine Wickham</td><td>Sleeping Arrangements</td><td>3.24</td></tr>",
                            "<tr><td>347143</td><td>Tom Perrotta</td><td>The Abstinence Teacher</td><td>3.24</td></tr>",
                            "<tr><td>17412188</td><td>S.J. Watson</td><td>Second Life</td><td>3.24</td></tr>",
                            "<tr><td>18090150</td><td>Isabel Allende, Oliver Brock, Frank Wynne</td><td>Ripper</td><td>3.24</td></tr>",
                            "<tr><td>22725443</td><td>Jill Alexander Essbaum</td><td>Hausfrau</td><td>3.24</td></tr>",
                            "<tr><td>4929705</td><td>Robert Goolrick</td><td>A Reliable Wife</td><td>3.25</td></tr>",
                            "<tr><td>207034</td><td>Jeanne DuPrau</td><td>The Prophet of Yonwood (Book of Ember, #3)</td><td>3.25</td></tr>",
                            "<tr><td>10365343</td><td>Colson Whitehead</td><td>Zone One</td><td>3.25</td></tr>",
                            "<tr><td>381704</td><td>Plum Sykes</td><td>Bergdorf Blondes</td><td>3.26</td></tr>",
                            "<tr><td>16131193</td><td>Lily Koppel</td><td>The Astronaut Wives Club</td><td>3.26</td></tr>",
                            "<tr><td>31333</td><td>Anne Rice</td><td>Violin</td><td>3.26</td></tr>",
                            "<tr><td>15858</td><td>Gregory Maguire</td><td>Mirror Mirror</td><td>3.27</td></tr>",
                            "<tr><td>411527</td><td>Nick Hornby</td><td>Slam</td><td>3.27</td></tr>",
                            "<tr><td>13497818</td><td>J.K. Rowling</td><td>The Casual Vacancy</td><td>3.28</td></tr>",
                            "<tr><td>5899779</td><td>Seth Grahame-Smith, Jane Austen</td><td>Pride and Prejudice and Zombies (Pride and Prejudice and Zombies, #1)</td><td>3.28</td></tr>",
                            "<tr><td>26582</td><td>A.N. Roquelaure, Anne Rice</td><td>The Claiming of Sleeping Beauty (Sleeping Beauty, #1)</td><td>3.28</td></tr>",
                            "<tr><td>26192646</td><td>Stephanie Danler</td><td>Sweetbitter</td><td>3.28</td></tr>",
                            "<tr><td>10574</td><td>Stephen King</td><td>The Colorado Kid (Hard Case Crime #13)</td><td>3.28</td></tr>",
                            "<tr><td>16188</td><td>Philippa Gregory</td><td>Wideacre  (The Wideacre Trilogy, #1)</td><td>3.28</td></tr>",
                            "<tr><td>392217</td><td>Patricia Cornwell</td><td>Hornet's Nest (Andy Brazil, #1)</td><td>3.28</td></tr>",
                            "<tr><td>2508164</td><td>Tonya Hurley</td><td>Ghostgirl (Ghostgirl, #1)</td><td>3.28</td></tr>",
                            "<tr><td>6922622</td><td>Sarah Palin, Lynn Vincent, Dewey Whetsell</td><td>Going Rogue: An American Life</td><td>3.28</td></tr>",
                            "<tr><td>33926</td><td>Melissa Bank</td><td>The Girls' Guide to Hunting and Fishing</td><td>3.29</td></tr>",
                            "<tr><td>13722902</td><td>Dave Eggers</td><td>A Hologram for the King</td><td>3.29</td></tr>",
                            "<tr><td>3124249</td><td>Gregory Maguire, Douglas Smith</td><td>A Lion Among Men (The Wicked Years, #3)</td><td>3.29</td></tr>",
                            "<tr><td>11166890</td><td>Dean Koontz</td><td>77 Shadow Street (Pendleton, #1)</td><td>3.29</td></tr>",
                            "<tr><td>70509</td><td>Gary Shteyngart</td><td>Absurdistan</td><td>3.29</td></tr>",
                            "<tr><td>17182421</td><td>Jason Mott</td><td>The Returned</td><td>3.29</td></tr>",
                            "</table>"
                        ]
                    }
                }
            ],
            "execution_count": 3
        },
        {
            "cell_type": "markdown",
            "source": [
                "Question 3: Which tag is the most popular?"
            ],
            "metadata": {
                "azdata_cell_guid": "a370909d-5d64-49e2-8fec-5220730c8ca7"
            },
            "attachments": {}
        },
        {
            "cell_type": "code",
            "source": [
                "-- return most popular tag\n",
                "SELECT TOP 100 tag_id AS 'Tag ID', SUM(count) AS 'Tag Count'\n",
                "FROM BooksDB.dbo.book_tags\n",
                "GROUP BY tag_id \n",
                "ORDER BY ('Tag Count') DESC;"
            ],
            "metadata": {
                "azdata_cell_guid": "9e0451dc-c4d3-4775-9eb1-904854f459ff",
                "tags": [],
                "language": "sql"
            },
            "outputs": [
                {
                    "output_type": "display_data",
                    "data": {
                        "text/html": "(100 rows affected)"
                    },
                    "metadata": {}
                },
                {
                    "output_type": "display_data",
                    "data": {
                        "text/html": "Total execution time: 00:00:00.202"
                    },
                    "metadata": {}
                },
                {
                    "output_type": "execute_result",
                    "metadata": {},
                    "execution_count": 31,
                    "data": {
                        "application/vnd.dataresource+json": {
                            "schema": {
                                "fields": [
                                    {
                                        "name": "Tag ID"
                                    },
                                    {
                                        "name": "Tag Count"
                                    }
                                ]
                            },
                            "data": [
                                {
                                    "Tag ID": "30574",
                                    "Tag Count": "140718761"
                                },
                                {
                                    "Tag ID": "8717",
                                    "Tag Count": "7507958"
                                },
                                {
                                    "Tag ID": "11557",
                                    "Tag Count": "4503173"
                                },
                                {
                                    "Tag ID": "11743",
                                    "Tag Count": "3688819"
                                },
                                {
                                    "Tag ID": "11305",
                                    "Tag Count": "3548157"
                                },
                                {
                                    "Tag ID": "33114",
                                    "Tag Count": "1848306"
                                },
                                {
                                    "Tag ID": "7457",
                                    "Tag Count": "1756920"
                                },
                                {
                                    "Tag ID": "5207",
                                    "Tag Count": "1317235"
                                },
                                {
                                    "Tag ID": "26138",
                                    "Tag Count": "1231926"
                                },
                                {
                                    "Tag ID": "22743",
                                    "Tag Count": "1224279"
                                },
                                {
                                    "Tag ID": "32989",
                                    "Tag Count": "898334"
                                },
                                {
                                    "Tag ID": "20939",
                                    "Tag Count": "872282"
                                },
                                {
                                    "Tag ID": "21689",
                                    "Tag Count": "857901"
                                },
                                {
                                    "Tag ID": "14487",
                                    "Tag Count": "815421"
                                },
                                {
                                    "Tag ID": "27199",
                                    "Tag Count": "782637"
                                },
                                {
                                    "Tag ID": "26837",
                                    "Tag Count": "703866"
                                },
                                {
                                    "Tag ID": "26771",
                                    "Tag Count": "597325"
                                },
                                {
                                    "Tag ID": "22973",
                                    "Tag Count": "542559"
                                },
                                {
                                    "Tag ID": "17213",
                                    "Tag Count": "506882"
                                },
                                {
                                    "Tag ID": "8055",
                                    "Tag Count": "486001"
                                },
                                {
                                    "Tag ID": "4949",
                                    "Tag Count": "446685"
                                },
                                {
                                    "Tag ID": "18045",
                                    "Tag Count": "429171"
                                },
                                {
                                    "Tag ID": "11590",
                                    "Tag Count": "423289"
                                },
                                {
                                    "Tag ID": "22753",
                                    "Tag Count": "417384"
                                },
                                {
                                    "Tag ID": "14821",
                                    "Tag Count": "415467"
                                },
                                {
                                    "Tag ID": "9221",
                                    "Tag Count": "405326"
                                },
                                {
                                    "Tag ID": "3389",
                                    "Tag Count": "388991"
                                },
                                {
                                    "Tag ID": "31617",
                                    "Tag Count": "374689"
                                },
                                {
                                    "Tag ID": "21773",
                                    "Tag Count": "371049"
                                },
                                {
                                    "Tag ID": "30521",
                                    "Tag Count": "363276"
                                },
                                {
                                    "Tag ID": "1642",
                                    "Tag Count": "337222"
                                },
                                {
                                    "Tag ID": "7404",
                                    "Tag Count": "334113"
                                },
                                {
                                    "Tag ID": "6953",
                                    "Tag Count": "315716"
                                },
                                {
                                    "Tag ID": "13561",
                                    "Tag Count": "313560"
                                },
                                {
                                    "Tag ID": "30358",
                                    "Tag Count": "309276"
                                },
                                {
                                    "Tag ID": "3392",
                                    "Tag Count": "307154"
                                },
                                {
                                    "Tag ID": "10197",
                                    "Tag Count": "302571"
                                },
                                {
                                    "Tag ID": "31745",
                                    "Tag Count": "300730"
                                },
                                {
                                    "Tag ID": "1691",
                                    "Tag Count": "295933"
                                },
                                {
                                    "Tag ID": "14552",
                                    "Tag Count": "291366"
                                },
                                {
                                    "Tag ID": "10064",
                                    "Tag Count": "281487"
                                },
                                {
                                    "Tag ID": "3371",
                                    "Tag Count": "264746"
                                },
                                {
                                    "Tag ID": "14467",
                                    "Tag Count": "263267"
                                },
                                {
                                    "Tag ID": "15048",
                                    "Tag Count": "262340"
                                },
                                {
                                    "Tag ID": "22034",
                                    "Tag Count": "260327"
                                },
                                {
                                    "Tag ID": "6750",
                                    "Tag Count": "251072"
                                },
                                {
                                    "Tag ID": "18367",
                                    "Tag Count": "249441"
                                },
                                {
                                    "Tag ID": "10059",
                                    "Tag Count": "231846"
                                },
                                {
                                    "Tag ID": "20774",
                                    "Tag Count": "225606"
                                },
                                {
                                    "Tag ID": "22983",
                                    "Tag Count": "221939"
                                },
                                {
                                    "Tag ID": "6857",
                                    "Tag Count": "218410"
                                },
                                {
                                    "Tag ID": "10210",
                                    "Tag Count": "217716"
                                },
                                {
                                    "Tag ID": "18886",
                                    "Tag Count": "212637"
                                },
                                {
                                    "Tag ID": "8517",
                                    "Tag Count": "204493"
                                },
                                {
                                    "Tag ID": "7778",
                                    "Tag Count": "193981"
                                },
                                {
                                    "Tag ID": "15169",
                                    "Tag Count": "184735"
                                },
                                {
                                    "Tag ID": "19733",
                                    "Tag Count": "183477"
                                },
                                {
                                    "Tag ID": "25151",
                                    "Tag Count": "182350"
                                },
                                {
                                    "Tag ID": "1659",
                                    "Tag Count": "182261"
                                },
                                {
                                    "Tag ID": "6888",
                                    "Tag Count": "179037"
                                },
                                {
                                    "Tag ID": "26785",
                                    "Tag Count": "176704"
                                },
                                {
                                    "Tag ID": "32586",
                                    "Tag Count": "175729"
                                },
                                {
                                    "Tag ID": "4605",
                                    "Tag Count": "172444"
                                },
                                {
                                    "Tag ID": "20849",
                                    "Tag Count": "168884"
                                },
                                {
                                    "Tag ID": "25152",
                                    "Tag Count": "168183"
                                },
                                {
                                    "Tag ID": "25150",
                                    "Tag Count": "167920"
                                },
                                {
                                    "Tag ID": "6895",
                                    "Tag Count": "166849"
                                },
                                {
                                    "Tag ID": "29011",
                                    "Tag Count": "165139"
                                },
                                {
                                    "Tag ID": "19052",
                                    "Tag Count": "148583"
                                },
                                {
                                    "Tag ID": "23471",
                                    "Tag Count": "141156"
                                },
                                {
                                    "Tag ID": "29452",
                                    "Tag Count": "140190"
                                },
                                {
                                    "Tag ID": "13547",
                                    "Tag Count": "138563"
                                },
                                {
                                    "Tag ID": "26816",
                                    "Tag Count": "138377"
                                },
                                {
                                    "Tag ID": "25149",
                                    "Tag Count": "136294"
                                },
                                {
                                    "Tag ID": "24960",
                                    "Tag Count": "135680"
                                },
                                {
                                    "Tag ID": "21387",
                                    "Tag Count": "132973"
                                },
                                {
                                    "Tag ID": "29076",
                                    "Tag Count": "132115"
                                },
                                {
                                    "Tag ID": "21989",
                                    "Tag Count": "129366"
                                },
                                {
                                    "Tag ID": "23831",
                                    "Tag Count": "127220"
                                },
                                {
                                    "Tag ID": "23605",
                                    "Tag Count": "125049"
                                },
                                {
                                    "Tag ID": "26735",
                                    "Tag Count": "123764"
                                },
                                {
                                    "Tag ID": "8076",
                                    "Tag Count": "121716"
                                },
                                {
                                    "Tag ID": "6828",
                                    "Tag Count": "121163"
                                },
                                {
                                    "Tag ID": "23743",
                                    "Tag Count": "120752"
                                },
                                {
                                    "Tag ID": "26894",
                                    "Tag Count": "119566"
                                },
                                {
                                    "Tag ID": "25438",
                                    "Tag Count": "118968"
                                },
                                {
                                    "Tag ID": "17124",
                                    "Tag Count": "118799"
                                },
                                {
                                    "Tag ID": "27669",
                                    "Tag Count": "117967"
                                },
                                {
                                    "Tag ID": "9886",
                                    "Tag Count": "117898"
                                },
                                {
                                    "Tag ID": "1416",
                                    "Tag Count": "117598"
                                },
                                {
                                    "Tag ID": "31723",
                                    "Tag Count": "112702"
                                },
                                {
                                    "Tag ID": "3358",
                                    "Tag Count": "110786"
                                },
                                {
                                    "Tag ID": "11497",
                                    "Tag Count": "109179"
                                },
                                {
                                    "Tag ID": "2104",
                                    "Tag Count": "109005"
                                },
                                {
                                    "Tag ID": "22689",
                                    "Tag Count": "108605"
                                },
                                {
                                    "Tag ID": "25148",
                                    "Tag Count": "106238"
                                },
                                {
                                    "Tag ID": "19974",
                                    "Tag Count": "102541"
                                },
                                {
                                    "Tag ID": "5090",
                                    "Tag Count": "102113"
                                },
                                {
                                    "Tag ID": "10644",
                                    "Tag Count": "102045"
                                },
                                {
                                    "Tag ID": "8067",
                                    "Tag Count": "99514"
                                }
                            ]
                        },
                        "text/html": [
                            "<table>",
                            "<tr><th>Tag ID</th><th>Tag Count</th></tr>",
                            "<tr><td>30574</td><td>140718761</td></tr>",
                            "<tr><td>8717</td><td>7507958</td></tr>",
                            "<tr><td>11557</td><td>4503173</td></tr>",
                            "<tr><td>11743</td><td>3688819</td></tr>",
                            "<tr><td>11305</td><td>3548157</td></tr>",
                            "<tr><td>33114</td><td>1848306</td></tr>",
                            "<tr><td>7457</td><td>1756920</td></tr>",
                            "<tr><td>5207</td><td>1317235</td></tr>",
                            "<tr><td>26138</td><td>1231926</td></tr>",
                            "<tr><td>22743</td><td>1224279</td></tr>",
                            "<tr><td>32989</td><td>898334</td></tr>",
                            "<tr><td>20939</td><td>872282</td></tr>",
                            "<tr><td>21689</td><td>857901</td></tr>",
                            "<tr><td>14487</td><td>815421</td></tr>",
                            "<tr><td>27199</td><td>782637</td></tr>",
                            "<tr><td>26837</td><td>703866</td></tr>",
                            "<tr><td>26771</td><td>597325</td></tr>",
                            "<tr><td>22973</td><td>542559</td></tr>",
                            "<tr><td>17213</td><td>506882</td></tr>",
                            "<tr><td>8055</td><td>486001</td></tr>",
                            "<tr><td>4949</td><td>446685</td></tr>",
                            "<tr><td>18045</td><td>429171</td></tr>",
                            "<tr><td>11590</td><td>423289</td></tr>",
                            "<tr><td>22753</td><td>417384</td></tr>",
                            "<tr><td>14821</td><td>415467</td></tr>",
                            "<tr><td>9221</td><td>405326</td></tr>",
                            "<tr><td>3389</td><td>388991</td></tr>",
                            "<tr><td>31617</td><td>374689</td></tr>",
                            "<tr><td>21773</td><td>371049</td></tr>",
                            "<tr><td>30521</td><td>363276</td></tr>",
                            "<tr><td>1642</td><td>337222</td></tr>",
                            "<tr><td>7404</td><td>334113</td></tr>",
                            "<tr><td>6953</td><td>315716</td></tr>",
                            "<tr><td>13561</td><td>313560</td></tr>",
                            "<tr><td>30358</td><td>309276</td></tr>",
                            "<tr><td>3392</td><td>307154</td></tr>",
                            "<tr><td>10197</td><td>302571</td></tr>",
                            "<tr><td>31745</td><td>300730</td></tr>",
                            "<tr><td>1691</td><td>295933</td></tr>",
                            "<tr><td>14552</td><td>291366</td></tr>",
                            "<tr><td>10064</td><td>281487</td></tr>",
                            "<tr><td>3371</td><td>264746</td></tr>",
                            "<tr><td>14467</td><td>263267</td></tr>",
                            "<tr><td>15048</td><td>262340</td></tr>",
                            "<tr><td>22034</td><td>260327</td></tr>",
                            "<tr><td>6750</td><td>251072</td></tr>",
                            "<tr><td>18367</td><td>249441</td></tr>",
                            "<tr><td>10059</td><td>231846</td></tr>",
                            "<tr><td>20774</td><td>225606</td></tr>",
                            "<tr><td>22983</td><td>221939</td></tr>",
                            "<tr><td>6857</td><td>218410</td></tr>",
                            "<tr><td>10210</td><td>217716</td></tr>",
                            "<tr><td>18886</td><td>212637</td></tr>",
                            "<tr><td>8517</td><td>204493</td></tr>",
                            "<tr><td>7778</td><td>193981</td></tr>",
                            "<tr><td>15169</td><td>184735</td></tr>",
                            "<tr><td>19733</td><td>183477</td></tr>",
                            "<tr><td>25151</td><td>182350</td></tr>",
                            "<tr><td>1659</td><td>182261</td></tr>",
                            "<tr><td>6888</td><td>179037</td></tr>",
                            "<tr><td>26785</td><td>176704</td></tr>",
                            "<tr><td>32586</td><td>175729</td></tr>",
                            "<tr><td>4605</td><td>172444</td></tr>",
                            "<tr><td>20849</td><td>168884</td></tr>",
                            "<tr><td>25152</td><td>168183</td></tr>",
                            "<tr><td>25150</td><td>167920</td></tr>",
                            "<tr><td>6895</td><td>166849</td></tr>",
                            "<tr><td>29011</td><td>165139</td></tr>",
                            "<tr><td>19052</td><td>148583</td></tr>",
                            "<tr><td>23471</td><td>141156</td></tr>",
                            "<tr><td>29452</td><td>140190</td></tr>",
                            "<tr><td>13547</td><td>138563</td></tr>",
                            "<tr><td>26816</td><td>138377</td></tr>",
                            "<tr><td>25149</td><td>136294</td></tr>",
                            "<tr><td>24960</td><td>135680</td></tr>",
                            "<tr><td>21387</td><td>132973</td></tr>",
                            "<tr><td>29076</td><td>132115</td></tr>",
                            "<tr><td>21989</td><td>129366</td></tr>",
                            "<tr><td>23831</td><td>127220</td></tr>",
                            "<tr><td>23605</td><td>125049</td></tr>",
                            "<tr><td>26735</td><td>123764</td></tr>",
                            "<tr><td>8076</td><td>121716</td></tr>",
                            "<tr><td>6828</td><td>121163</td></tr>",
                            "<tr><td>23743</td><td>120752</td></tr>",
                            "<tr><td>26894</td><td>119566</td></tr>",
                            "<tr><td>25438</td><td>118968</td></tr>",
                            "<tr><td>17124</td><td>118799</td></tr>",
                            "<tr><td>27669</td><td>117967</td></tr>",
                            "<tr><td>9886</td><td>117898</td></tr>",
                            "<tr><td>1416</td><td>117598</td></tr>",
                            "<tr><td>31723</td><td>112702</td></tr>",
                            "<tr><td>3358</td><td>110786</td></tr>",
                            "<tr><td>11497</td><td>109179</td></tr>",
                            "<tr><td>2104</td><td>109005</td></tr>",
                            "<tr><td>22689</td><td>108605</td></tr>",
                            "<tr><td>25148</td><td>106238</td></tr>",
                            "<tr><td>19974</td><td>102541</td></tr>",
                            "<tr><td>5090</td><td>102113</td></tr>",
                            "<tr><td>10644</td><td>102045</td></tr>",
                            "<tr><td>8067</td><td>99514</td></tr>",
                            "</table>"
                        ]
                    }
                }
            ],
            "execution_count": 31
        },
        {
            "cell_type": "markdown",
            "source": [
                "Question 4: What is the name of the most popular tag?"
            ],
            "metadata": {
                "azdata_cell_guid": "3cdfa7e6-c5a6-49fb-aa27-afeece881627"
            },
            "attachments": {}
        },
        {
            "cell_type": "code",
            "source": [
                "-- return name of most popular tag\n",
                "SELECT TOP 1 goodreads_book_id, tag_id \n",
                "FROM BooksDB.dbo.book_tags\n",
                "WHERE tag_id=30574;"
            ],
            "metadata": {
                "azdata_cell_guid": "3cd3a3ec-4ce2-49b6-b714-44179eed00e1",
                "language": "sql"
            },
            "outputs": [
                {
                    "output_type": "display_data",
                    "data": {
                        "text/html": "(1 row affected)"
                    },
                    "metadata": {}
                },
                {
                    "output_type": "display_data",
                    "data": {
                        "text/html": "Total execution time: 00:00:00.074"
                    },
                    "metadata": {}
                },
                {
                    "output_type": "execute_result",
                    "metadata": {},
                    "execution_count": 33,
                    "data": {
                        "application/vnd.dataresource+json": {
                            "schema": {
                                "fields": [
                                    {
                                        "name": "goodreads_book_id"
                                    },
                                    {
                                        "name": "tag_id"
                                    }
                                ]
                            },
                            "data": [
                                {
                                    "goodreads_book_id": "1",
                                    "tag_id": "30574"
                                }
                            ]
                        },
                        "text/html": [
                            "<table>",
                            "<tr><th>goodreads_book_id</th><th>tag_id</th></tr>",
                            "<tr><td>1</td><td>30574</td></tr>",
                            "</table>"
                        ]
                    }
                }
            ],
            "execution_count": 33
        },
        {
            "cell_type": "code",
            "source": [
                "SELECT book_id, title \n",
                "FROM BooksDB.dbo.books\n",
                "WHERE book_id=1;"
            ],
            "metadata": {
                "azdata_cell_guid": "0d243fb7-d8f5-4596-8a14-b635ea595193",
                "language": "sql"
            },
            "outputs": [
                {
                    "output_type": "display_data",
                    "data": {
                        "text/html": "(1 row affected)"
                    },
                    "metadata": {}
                },
                {
                    "output_type": "display_data",
                    "data": {
                        "text/html": "Total execution time: 00:00:00.038"
                    },
                    "metadata": {}
                },
                {
                    "output_type": "execute_result",
                    "metadata": {},
                    "execution_count": 34,
                    "data": {
                        "application/vnd.dataresource+json": {
                            "schema": {
                                "fields": [
                                    {
                                        "name": "book_id"
                                    },
                                    {
                                        "name": "title"
                                    }
                                ]
                            },
                            "data": [
                                {
                                    "book_id": "1",
                                    "title": "Harry Potter and the Half-Blood Prince (Harry Potter, #6)"
                                }
                            ]
                        },
                        "text/html": [
                            "<table>",
                            "<tr><th>book_id</th><th>title</th></tr>",
                            "<tr><td>1</td><td>Harry Potter and the Half-Blood Prince (Harry Potter, #6)</td></tr>",
                            "</table>"
                        ]
                    }
                }
            ],
            "execution_count": 34
        },
        {
            "cell_type": "markdown",
            "source": [
                "Question 5: How many books where released in the first decade of 2000?"
            ],
            "metadata": {
                "azdata_cell_guid": "b3962545-c0c2-47ca-a3c4-299c2c0a4b0c"
            },
            "attachments": {}
        },
        {
            "cell_type": "code",
            "source": [
                "-- return number of books published in the first decade of 2000\n",
                "SELECT COUNT(book_id) AS 'Book Count', original_publication_year AS 'Pub Year'\n",
                "FROM BooksDB.dbo.books\n",
                "WHERE original_publication_year >= 2000 and original_publication_year <= 2010\n",
                "GROUP BY (original_publication_year);"
            ],
            "metadata": {
                "azdata_cell_guid": "8dcd65e9-1b3e-4cf8-b726-26729a1225f2",
                "language": "sql",
                "tags": []
            },
            "outputs": [
                {
                    "output_type": "display_data",
                    "data": {
                        "text/html": "(11 rows affected)"
                    },
                    "metadata": {}
                },
                {
                    "output_type": "display_data",
                    "data": {
                        "text/html": "Total execution time: 00:00:00.042"
                    },
                    "metadata": {}
                },
                {
                    "output_type": "execute_result",
                    "metadata": {},
                    "execution_count": 39,
                    "data": {
                        "application/vnd.dataresource+json": {
                            "schema": {
                                "fields": [
                                    {
                                        "name": "Book Count"
                                    },
                                    {
                                        "name": "Pub Year"
                                    }
                                ]
                            },
                            "data": [
                                {
                                    "Book Count": "209",
                                    "Pub Year": "2000"
                                },
                                {
                                    "Book Count": "307",
                                    "Pub Year": "2004"
                                },
                                {
                                    "Book Count": "383",
                                    "Pub Year": "2008"
                                },
                                {
                                    "Book Count": "473",
                                    "Pub Year": "2010"
                                },
                                {
                                    "Book Count": "363",
                                    "Pub Year": "2007"
                                },
                                {
                                    "Book Count": "288",
                                    "Pub Year": "2003"
                                },
                                {
                                    "Book Count": "225",
                                    "Pub Year": "2002"
                                },
                                {
                                    "Book Count": "432",
                                    "Pub Year": "2009"
                                },
                                {
                                    "Book Count": "362",
                                    "Pub Year": "2006"
                                },
                                {
                                    "Book Count": "326",
                                    "Pub Year": "2005"
                                },
                                {
                                    "Book Count": "226",
                                    "Pub Year": "2001"
                                }
                            ]
                        },
                        "text/html": [
                            "<table>",
                            "<tr><th>Book Count</th><th>Pub Year</th></tr>",
                            "<tr><td>209</td><td>2000</td></tr>",
                            "<tr><td>307</td><td>2004</td></tr>",
                            "<tr><td>383</td><td>2008</td></tr>",
                            "<tr><td>473</td><td>2010</td></tr>",
                            "<tr><td>363</td><td>2007</td></tr>",
                            "<tr><td>288</td><td>2003</td></tr>",
                            "<tr><td>225</td><td>2002</td></tr>",
                            "<tr><td>432</td><td>2009</td></tr>",
                            "<tr><td>362</td><td>2006</td></tr>",
                            "<tr><td>326</td><td>2005</td></tr>",
                            "<tr><td>226</td><td>2001</td></tr>",
                            "</table>"
                        ]
                    }
                }
            ],
            "execution_count": 39
        },
        {
            "cell_type": "markdown",
            "source": [
                "Question 6: How many book titles contain the word Happy?"
            ],
            "metadata": {
                "azdata_cell_guid": "5080d6de-2775-4055-97ae-f93fce97a426"
            },
            "attachments": {}
        },
        {
            "cell_type": "code",
            "source": [
                "-- return number of books that contain the word Happy\n",
                "SELECT COUNT(book_id) AS 'Books with Happy'\n",
                "FROM BooksDB.dbo.books\n",
                "WHERE (LOWER(title)) LIKE '%happy%';"
            ],
            "metadata": {
                "azdata_cell_guid": "f55f18b9-91b1-4761-ad8c-4758434d7827",
                "language": "sql",
                "tags": []
            },
            "outputs": [
                {
                    "output_type": "display_data",
                    "data": {
                        "text/html": "(1 row affected)"
                    },
                    "metadata": {}
                },
                {
                    "output_type": "display_data",
                    "data": {
                        "text/html": "Total execution time: 00:00:00.100"
                    },
                    "metadata": {}
                },
                {
                    "output_type": "execute_result",
                    "metadata": {},
                    "execution_count": 50,
                    "data": {
                        "application/vnd.dataresource+json": {
                            "schema": {
                                "fields": [
                                    {
                                        "name": "Books with Happy"
                                    }
                                ]
                            },
                            "data": [
                                {
                                    "Books with Happy": "13"
                                }
                            ]
                        },
                        "text/html": [
                            "<table>",
                            "<tr><th>Books with Happy</th></tr>",
                            "<tr><td>13</td></tr>",
                            "</table>"
                        ]
                    }
                }
            ],
            "execution_count": 50
        },
        {
            "cell_type": "markdown",
            "source": [
                "Question 7: List the books from the top 3 authors from question 1.  If there is more than one author just use the first one. Sort the titles <span style=\"background-color: rgba(127, 127, 127, 0.1); font-family: -apple-system, BlinkMacSystemFont, sans-serif;\">alphabetically by author and then by average_rating, best rated to lowest. Does order matter in sorting?</span>"
            ],
            "metadata": {
                "azdata_cell_guid": "d38270ef-da5a-42b4-802a-506acb8b9e4b"
            },
            "attachments": {}
        },
        {
            "cell_type": "code",
            "source": [
                "-- return all books from the top 3 authors, sort by author and rating\n",
                "SELECT TOP 3 authors AS 'Authors', title AS 'Title', average_rating AS 'Avg. Rating'\n",
                "FROM BooksDB.dbo.books\n",
                "ORDER BY (average_rating)DESC, authors;"
            ],
            "metadata": {
                "azdata_cell_guid": "47466fac-5d8d-491d-bd3c-2f8496f55e6b",
                "language": "sql",
                "tags": []
            },
            "outputs": [
                {
                    "output_type": "display_data",
                    "data": {
                        "text/html": "(3 rows affected)"
                    },
                    "metadata": {}
                },
                {
                    "output_type": "display_data",
                    "data": {
                        "text/html": "Total execution time: 00:00:00.043"
                    },
                    "metadata": {}
                },
                {
                    "output_type": "execute_result",
                    "metadata": {},
                    "execution_count": 57,
                    "data": {
                        "application/vnd.dataresource+json": {
                            "schema": {
                                "fields": [
                                    {
                                        "name": "Authors"
                                    },
                                    {
                                        "name": "Title"
                                    },
                                    {
                                        "name": "Avg. Rating"
                                    }
                                ]
                            },
                            "data": [
                                {
                                    "Authors": "Bill Watterson",
                                    "Title": "The Complete Calvin and Hobbes",
                                    "Avg. Rating": "4.82"
                                },
                                {
                                    "Authors": "Brandon Sanderson",
                                    "Title": "Words of Radiance (The Stormlight Archive, #2)",
                                    "Avg. Rating": "4.77"
                                },
                                {
                                    "Authors": "J.K. Rowling, Mary GrandPré",
                                    "Title": "Harry Potter Boxed Set, Books 1-5 (Harry Potter, #1-5)",
                                    "Avg. Rating": "4.77"
                                }
                            ]
                        },
                        "text/html": [
                            "<table>",
                            "<tr><th>Authors</th><th>Title</th><th>Avg. Rating</th></tr>",
                            "<tr><td>Bill Watterson</td><td>The Complete Calvin and Hobbes</td><td>4.82</td></tr>",
                            "<tr><td>Brandon Sanderson</td><td>Words of Radiance (The Stormlight Archive, #2)</td><td>4.77</td></tr>",
                            "<tr><td>J.K. Rowling, Mary GrandPré</td><td>Harry Potter Boxed Set, Books 1-5 (Harry Potter, #1-5)</td><td>4.77</td></tr>",
                            "</table>"
                        ]
                    }
                }
            ],
            "execution_count": 57
        },
        {
            "cell_type": "markdown",
            "source": [
                "Question 8: Take a close look at J.K. Rowling.  Is her top rated book on this list from question 1?  Why might this be? How could we account for this?\n",
                "\n",
                "> Click here to add your answer.\n",
                "> \n",
                "> Yes, it is. This title is the 3rd highest rated when sorting by Author name (tied for second by sorted by first name)."
            ],
            "metadata": {
                "azdata_cell_guid": "db907c70-0bbd-4121-ac91-ae814f703243"
            },
            "attachments": {}
        },
        {
            "cell_type": "markdown",
            "source": [
                "Try updating your above query to include all of J.K. Rowling's books."
            ],
            "metadata": {
                "azdata_cell_guid": "b8a3a8e4-1735-49b8-babd-93ed3374fb50"
            },
            "attachments": {}
        },
        {
            "cell_type": "code",
            "source": [
                "-- Try updating your above query to include all of J.K. Rowling's books\n",
                "SELECT TOP 100 authors AS 'Authors', title AS 'Title', average_rating AS 'Avg. Rating'\n",
                "FROM BooksDB.dbo.books\n",
                "WHERE LOWER(authors) LIKE '%j.k. rowling%'\n",
                "ORDER BY (average_rating)DESC, authors;"
            ],
            "metadata": {
                "azdata_cell_guid": "12482d81-20ed-40e6-8ecf-307af99913e9",
                "language": "sql"
            },
            "outputs": [
                {
                    "output_type": "display_data",
                    "data": {
                        "text/html": "(27 rows affected)"
                    },
                    "metadata": {}
                },
                {
                    "output_type": "display_data",
                    "data": {
                        "text/html": "Total execution time: 00:00:00.069"
                    },
                    "metadata": {}
                },
                {
                    "output_type": "execute_result",
                    "metadata": {},
                    "execution_count": 61,
                    "data": {
                        "application/vnd.dataresource+json": {
                            "schema": {
                                "fields": [
                                    {
                                        "name": "Authors"
                                    },
                                    {
                                        "name": "Title"
                                    },
                                    {
                                        "name": "Avg. Rating"
                                    }
                                ]
                            },
                            "data": [
                                {
                                    "Authors": "J.K. Rowling, Mary GrandPré",
                                    "Title": "Harry Potter Boxed Set, Books 1-5 (Harry Potter, #1-5)",
                                    "Avg. Rating": "4.77"
                                },
                                {
                                    "Authors": "J.K. Rowling",
                                    "Title": "Harry Potter Boxset (Harry Potter, #1-7)",
                                    "Avg. Rating": "4.74"
                                },
                                {
                                    "Authors": "J.K. Rowling",
                                    "Title": "Harry Potter Collection (Harry Potter, #1-6)",
                                    "Avg. Rating": "4.73"
                                },
                                {
                                    "Authors": "J.K. Rowling, Mary GrandPré",
                                    "Title": "The Harry Potter Collection 1-4 (Harry Potter, #1-4)",
                                    "Avg. Rating": "4.66"
                                },
                                {
                                    "Authors": "J.K. Rowling, Mary GrandPré",
                                    "Title": "Harry Potter and the Deathly Hallows (Harry Potter, #7)",
                                    "Avg. Rating": "4.61"
                                },
                                {
                                    "Authors": "J.K. Rowling",
                                    "Title": "Harry Potter and the Order of the Phoenix (Harry Potter, #5, Part 1)",
                                    "Avg. Rating": "4.56"
                                },
                                {
                                    "Authors": "J.K. Rowling, Mary GrandPré",
                                    "Title": "Harry Potter and the Half-Blood Prince (Harry Potter, #6)",
                                    "Avg. Rating": "4.54"
                                },
                                {
                                    "Authors": "J.K. Rowling, Mary GrandPré",
                                    "Title": "Harry Potter and the Goblet of Fire (Harry Potter, #4)",
                                    "Avg. Rating": "4.53"
                                },
                                {
                                    "Authors": "J.K. Rowling, Mary GrandPré, Rufus Beck",
                                    "Title": "Harry Potter and the Prisoner of Azkaban (Harry Potter, #3)",
                                    "Avg. Rating": "4.53"
                                },
                                {
                                    "Authors": "J.K. Rowling, Mary GrandPré",
                                    "Title": "Harry Potter and the Order of the Phoenix (Harry Potter, #5)",
                                    "Avg. Rating": "4.46"
                                },
                                {
                                    "Authors": "J.K. Rowling, Mary GrandPré",
                                    "Title": "Harry Potter and the Sorcerer's Stone (Harry Potter, #1)",
                                    "Avg. Rating": "4.44"
                                },
                                {
                                    "Authors": "J.K. Rowling",
                                    "Title": "Fantastic Beasts and Where to Find Them: The Original Screenplay",
                                    "Avg. Rating": "4.41"
                                },
                                {
                                    "Authors": "J.K. Rowling",
                                    "Title": "Harry Potter Schoolbooks Box Set: Two Classic Books from the Library of Hogwarts School of Witchcraft and Wizardry",
                                    "Avg. Rating": "4.4"
                                },
                                {
                                    "Authors": "J.K. Rowling, Mary GrandPré",
                                    "Title": "Harry Potter and the Chamber of Secrets (Harry Potter, #2)",
                                    "Avg. Rating": "4.37"
                                },
                                {
                                    "Authors": "J.K. Rowling, Joel Holland",
                                    "Title": "Very Good Lives: The Fringe Benefits of Failure and the Importance of Imagination",
                                    "Avg. Rating": "4.26"
                                },
                                {
                                    "Authors": "J.K. Rowling, MinaLima",
                                    "Title": "Short Stories from Hogwarts of Heroism, Hardship and Dangerous Hobbies (Pottermore Presents, #1)",
                                    "Avg. Rating": "4.22"
                                },
                                {
                                    "Authors": "J.K. Rowling",
                                    "Title": "Hogwarts: An Incomplete and Unreliable Guide (Pottermore Presents, #3)",
                                    "Avg. Rating": "4.21"
                                },
                                {
                                    "Authors": "Robert Galbraith, J.K. Rowling",
                                    "Title": "Career of Evil (Cormoran Strike, #3)",
                                    "Avg. Rating": "4.21"
                                },
                                {
                                    "Authors": "J.K. Rowling, MinaLima",
                                    "Title": "Short Stories from Hogwarts of Power, Politics and Pesky Poltergeists (Pottermore Presents, #2)",
                                    "Avg. Rating": "4.2"
                                },
                                {
                                    "Authors": "Melissa Anelli, J.K. Rowling",
                                    "Title": "Harry, a History: The True Story of a Boy Wizard, His Fans, and Life Inside the Harry Potter Phenomenon",
                                    "Avg. Rating": "4.09"
                                },
                                {
                                    "Authors": "J.K. Rowling",
                                    "Title": "The Tales of Beedle the Bard",
                                    "Avg. Rating": "4.06"
                                },
                                {
                                    "Authors": "Robert Galbraith, J.K. Rowling",
                                    "Title": "The Silkworm (Cormoran Strike, #2)",
                                    "Avg. Rating": "4.03"
                                },
                                {
                                    "Authors": "Newt Scamander, J.K. Rowling, Albus Dumbledore",
                                    "Title": "Fantastic Beasts and Where to Find Them",
                                    "Avg. Rating": "3.95"
                                },
                                {
                                    "Authors": "Kennilworthy Whisp, J.K. Rowling",
                                    "Title": "Quidditch Through the Ages",
                                    "Avg. Rating": "3.85"
                                },
                                {
                                    "Authors": "Robert Galbraith, J.K. Rowling",
                                    "Title": "The Cuckoo's Calling (Cormoran Strike, #1)",
                                    "Avg. Rating": "3.83"
                                },
                                {
                                    "Authors": "John Tiffany, Jack Thorne, J.K. Rowling",
                                    "Title": "Harry Potter and the Cursed Child - Parts One and Two (Harry Potter, #8)",
                                    "Avg. Rating": "3.75"
                                },
                                {
                                    "Authors": "J.K. Rowling",
                                    "Title": "The Casual Vacancy",
                                    "Avg. Rating": "3.28"
                                }
                            ]
                        },
                        "text/html": [
                            "<table>",
                            "<tr><th>Authors</th><th>Title</th><th>Avg. Rating</th></tr>",
                            "<tr><td>J.K. Rowling, Mary GrandPré</td><td>Harry Potter Boxed Set, Books 1-5 (Harry Potter, #1-5)</td><td>4.77</td></tr>",
                            "<tr><td>J.K. Rowling</td><td>Harry Potter Boxset (Harry Potter, #1-7)</td><td>4.74</td></tr>",
                            "<tr><td>J.K. Rowling</td><td>Harry Potter Collection (Harry Potter, #1-6)</td><td>4.73</td></tr>",
                            "<tr><td>J.K. Rowling, Mary GrandPré</td><td>The Harry Potter Collection 1-4 (Harry Potter, #1-4)</td><td>4.66</td></tr>",
                            "<tr><td>J.K. Rowling, Mary GrandPré</td><td>Harry Potter and the Deathly Hallows (Harry Potter, #7)</td><td>4.61</td></tr>",
                            "<tr><td>J.K. Rowling</td><td>Harry Potter and the Order of the Phoenix (Harry Potter, #5, Part 1)</td><td>4.56</td></tr>",
                            "<tr><td>J.K. Rowling, Mary GrandPré</td><td>Harry Potter and the Half-Blood Prince (Harry Potter, #6)</td><td>4.54</td></tr>",
                            "<tr><td>J.K. Rowling, Mary GrandPré</td><td>Harry Potter and the Goblet of Fire (Harry Potter, #4)</td><td>4.53</td></tr>",
                            "<tr><td>J.K. Rowling, Mary GrandPré, Rufus Beck</td><td>Harry Potter and the Prisoner of Azkaban (Harry Potter, #3)</td><td>4.53</td></tr>",
                            "<tr><td>J.K. Rowling, Mary GrandPré</td><td>Harry Potter and the Order of the Phoenix (Harry Potter, #5)</td><td>4.46</td></tr>",
                            "<tr><td>J.K. Rowling, Mary GrandPré</td><td>Harry Potter and the Sorcerer's Stone (Harry Potter, #1)</td><td>4.44</td></tr>",
                            "<tr><td>J.K. Rowling</td><td>Fantastic Beasts and Where to Find Them: The Original Screenplay</td><td>4.41</td></tr>",
                            "<tr><td>J.K. Rowling</td><td>Harry Potter Schoolbooks Box Set: Two Classic Books from the Library of Hogwarts School of Witchcraft and Wizardry</td><td>4.4</td></tr>",
                            "<tr><td>J.K. Rowling, Mary GrandPré</td><td>Harry Potter and the Chamber of Secrets (Harry Potter, #2)</td><td>4.37</td></tr>",
                            "<tr><td>J.K. Rowling, Joel Holland</td><td>Very Good Lives: The Fringe Benefits of Failure and the Importance of Imagination</td><td>4.26</td></tr>",
                            "<tr><td>J.K. Rowling, MinaLima</td><td>Short Stories from Hogwarts of Heroism, Hardship and Dangerous Hobbies (Pottermore Presents, #1)</td><td>4.22</td></tr>",
                            "<tr><td>J.K. Rowling</td><td>Hogwarts: An Incomplete and Unreliable Guide (Pottermore Presents, #3)</td><td>4.21</td></tr>",
                            "<tr><td>Robert Galbraith, J.K. Rowling</td><td>Career of Evil (Cormoran Strike, #3)</td><td>4.21</td></tr>",
                            "<tr><td>J.K. Rowling, MinaLima</td><td>Short Stories from Hogwarts of Power, Politics and Pesky Poltergeists (Pottermore Presents, #2)</td><td>4.2</td></tr>",
                            "<tr><td>Melissa Anelli, J.K. Rowling</td><td>Harry, a History: The True Story of a Boy Wizard, His Fans, and Life Inside the Harry Potter Phenomenon</td><td>4.09</td></tr>",
                            "<tr><td>J.K. Rowling</td><td>The Tales of Beedle the Bard</td><td>4.06</td></tr>",
                            "<tr><td>Robert Galbraith, J.K. Rowling</td><td>The Silkworm (Cormoran Strike, #2)</td><td>4.03</td></tr>",
                            "<tr><td>Newt Scamander, J.K. Rowling, Albus Dumbledore</td><td>Fantastic Beasts and Where to Find Them</td><td>3.95</td></tr>",
                            "<tr><td>Kennilworthy Whisp, J.K. Rowling</td><td>Quidditch Through the Ages</td><td>3.85</td></tr>",
                            "<tr><td>Robert Galbraith, J.K. Rowling</td><td>The Cuckoo's Calling (Cormoran Strike, #1)</td><td>3.83</td></tr>",
                            "<tr><td>John Tiffany, Jack Thorne, J.K. Rowling</td><td>Harry Potter and the Cursed Child - Parts One and Two (Harry Potter, #8)</td><td>3.75</td></tr>",
                            "<tr><td>J.K. Rowling</td><td>The Casual Vacancy</td><td>3.28</td></tr>",
                            "</table>"
                        ]
                    }
                }
            ],
            "execution_count": 61
        },
        {
            "cell_type": "markdown",
            "source": [
                "Are there any other issues?\n",
                "\n",
                "> Click here to add your answer.\n",
                "> \n",
                "> Some of her books (and her top rated 'book') are \"box sets\" that contain books already listed."
            ],
            "metadata": {
                "azdata_cell_guid": "35ee4a48-8e84-4eb5-95ca-f5cdddc8d682"
            },
            "attachments": {}
        },
        {
            "cell_type": "markdown",
            "source": [
                "Question 9: Write a query that returns the number of Authors whose first name is between rock and roll."
            ],
            "metadata": {
                "azdata_cell_guid": "75bf5054-4918-4e9e-8e03-24a38ffab9cc"
            },
            "attachments": {}
        },
        {
            "cell_type": "code",
            "source": [
                "-- return number of authors whose first name is between rock and roll\n",
                "SELECT TOP 100 authors AS 'Authors'\n",
                "FROM BooksDB.dbo.books\n",
                "WHERE LOWER(authors) > 'rock' and LOWER(authors) < 'roll'\n",
                "ORDER BY (authors)ASC;"
            ],
            "metadata": {
                "azdata_cell_guid": "491b2492-95d4-4078-b319-386b0c5592ec",
                "language": "sql"
            },
            "outputs": [
                {
                    "output_type": "display_data",
                    "data": {
                        "text/html": "(25 rows affected)"
                    },
                    "metadata": {}
                },
                {
                    "output_type": "display_data",
                    "data": {
                        "text/html": "Total execution time: 00:00:00.065"
                    },
                    "metadata": {}
                },
                {
                    "output_type": "execute_result",
                    "metadata": {},
                    "execution_count": 63,
                    "data": {
                        "application/vnd.dataresource+json": {
                            "schema": {
                                "fields": [
                                    {
                                        "name": "Authors"
                                    }
                                ]
                            },
                            "data": [
                                {
                                    "Authors": "Rod Campbell"
                                },
                                {
                                    "Authors": "Roddy Doyle"
                                },
                                {
                                    "Authors": "Roddy Doyle"
                                },
                                {
                                    "Authors": "Roderick Gordon, Brian  Williams"
                                },
                                {
                                    "Authors": "Rodman Philbrick"
                                },
                                {
                                    "Authors": "Roger Fisher, William Ury, Bruce Patton"
                                },
                                {
                                    "Authors": "Roger Lea MacBride, David Gilleece"
                                },
                                {
                                    "Authors": "Roger Lowenstein"
                                },
                                {
                                    "Authors": "Roger Zelazny"
                                },
                                {
                                    "Authors": "Roger Zelazny"
                                },
                                {
                                    "Authors": "Roger Zelazny"
                                },
                                {
                                    "Authors": "Roger Zelazny"
                                },
                                {
                                    "Authors": "Roger Zelazny"
                                },
                                {
                                    "Authors": "Roger Zelazny"
                                },
                                {
                                    "Authors": "Roger Zelazny"
                                },
                                {
                                    "Authors": "Roger Zelazny, Sönmez Güven"
                                },
                                {
                                    "Authors": "Rohinton Mistry"
                                },
                                {
                                    "Authors": "Rohinton Mistry"
                                },
                                {
                                    "Authors": "Roland Barthes, Annette Lavers"
                                },
                                {
                                    "Authors": "Roland Barthes, Richard Howard"
                                },
                                {
                                    "Authors": "Roland Merullo"
                                },
                                {
                                    "Authors": "Roland Smith"
                                },
                                {
                                    "Authors": "Roland Smith"
                                },
                                {
                                    "Authors": "Rolf Dobelli"
                                },
                                {
                                    "Authors": "Rolf Potts"
                                }
                            ]
                        },
                        "text/html": [
                            "<table>",
                            "<tr><th>Authors</th></tr>",
                            "<tr><td>Rod Campbell</td></tr>",
                            "<tr><td>Roddy Doyle</td></tr>",
                            "<tr><td>Roddy Doyle</td></tr>",
                            "<tr><td>Roderick Gordon, Brian  Williams</td></tr>",
                            "<tr><td>Rodman Philbrick</td></tr>",
                            "<tr><td>Roger Fisher, William Ury, Bruce Patton</td></tr>",
                            "<tr><td>Roger Lea MacBride, David Gilleece</td></tr>",
                            "<tr><td>Roger Lowenstein</td></tr>",
                            "<tr><td>Roger Zelazny</td></tr>",
                            "<tr><td>Roger Zelazny</td></tr>",
                            "<tr><td>Roger Zelazny</td></tr>",
                            "<tr><td>Roger Zelazny</td></tr>",
                            "<tr><td>Roger Zelazny</td></tr>",
                            "<tr><td>Roger Zelazny</td></tr>",
                            "<tr><td>Roger Zelazny</td></tr>",
                            "<tr><td>Roger Zelazny, Sönmez Güven</td></tr>",
                            "<tr><td>Rohinton Mistry</td></tr>",
                            "<tr><td>Rohinton Mistry</td></tr>",
                            "<tr><td>Roland Barthes, Annette Lavers</td></tr>",
                            "<tr><td>Roland Barthes, Richard Howard</td></tr>",
                            "<tr><td>Roland Merullo</td></tr>",
                            "<tr><td>Roland Smith</td></tr>",
                            "<tr><td>Roland Smith</td></tr>",
                            "<tr><td>Rolf Dobelli</td></tr>",
                            "<tr><td>Rolf Potts</td></tr>",
                            "</table>"
                        ]
                    }
                }
            ],
            "execution_count": 63
        },
        {
            "cell_type": "markdown",
            "source": [
                "## Part 2. Write your own question and write a query to answer it.\n",
                "\n",
                "Your Question:  Which Author has written the most books?"
            ],
            "metadata": {
                "azdata_cell_guid": "1ba1363a-4f02-4962-a95a-93b80c5926b1"
            },
            "attachments": {}
        },
        {
            "cell_type": "code",
            "source": [
                "-- Add your querry here\n",
                "SELECT TOP 1 authors AS 'Author', COUNT(book_id) AS 'Book Count'\n",
                "FROM BooksDB.dbo.books\n",
                "GROUP BY (authors)\n",
                "ORDER BY ('Book Count')DESC;"
            ],
            "metadata": {
                "azdata_cell_guid": "607f1a61-b306-42bf-a20c-60ec3a6ba86a",
                "language": "sql"
            },
            "outputs": [
                {
                    "output_type": "display_data",
                    "data": {
                        "text/html": "(1 row affected)"
                    },
                    "metadata": {}
                },
                {
                    "output_type": "display_data",
                    "data": {
                        "text/html": "Total execution time: 00:00:00.088"
                    },
                    "metadata": {}
                },
                {
                    "output_type": "execute_result",
                    "metadata": {},
                    "execution_count": 67,
                    "data": {
                        "application/vnd.dataresource+json": {
                            "schema": {
                                "fields": [
                                    {
                                        "name": "Author"
                                    },
                                    {
                                        "name": "Book Count"
                                    }
                                ]
                            },
                            "data": [
                                {
                                    "Author": "Stephen King",
                                    "Book Count": "60"
                                }
                            ]
                        },
                        "text/html": [
                            "<table>",
                            "<tr><th>Author</th><th>Book Count</th></tr>",
                            "<tr><td>Stephen King</td><td>60</td></tr>",
                            "</table>"
                        ]
                    }
                }
            ],
            "execution_count": 67
        },
        {
            "cell_type": "markdown",
            "source": [
                "Your Question: Top ten books released during the year I was born?"
            ],
            "metadata": {
                "azdata_cell_guid": "9386ad04-a016-44d4-8c5c-d25a102d47b4"
            },
            "attachments": {}
        },
        {
            "cell_type": "code",
            "source": [
                "-- Add your querry here\n",
                "SELECT TOP 10 title AS 'Title', average_rating AS 'Avg. Rating', original_publication_year AS 'Pub Year'\n",
                "FROM BooksDB.dbo.books\n",
                "WHERE original_publication_year = 1988\n",
                "ORDER BY (average_rating)DESC;"
            ],
            "metadata": {
                "azdata_cell_guid": "15f249cf-aad7-468d-92e1-429b2a09f285",
                "language": "sql"
            },
            "outputs": [
                {
                    "output_type": "display_data",
                    "data": {
                        "text/html": "(10 rows affected)"
                    },
                    "metadata": {}
                },
                {
                    "output_type": "display_data",
                    "data": {
                        "text/html": "Total execution time: 00:00:00.036"
                    },
                    "metadata": {}
                },
                {
                    "output_type": "execute_result",
                    "metadata": {},
                    "execution_count": 69,
                    "data": {
                        "application/vnd.dataresource+json": {
                            "schema": {
                                "fields": [
                                    {
                                        "name": "Title"
                                    },
                                    {
                                        "name": "Avg. Rating"
                                    },
                                    {
                                        "name": "Pub Year"
                                    }
                                ]
                            },
                            "data": [
                                {
                                    "Title": "The Essential Calvin and Hobbes: A Calvin and Hobbes Treasury",
                                    "Avg. Rating": "4.65",
                                    "Pub Year": "1988"
                                },
                                {
                                    "Title": "Where I'm Calling From: New and Selected Stories",
                                    "Avg. Rating": "4.42",
                                    "Pub Year": "1988"
                                },
                                {
                                    "Title": "Guess How Much I Love You",
                                    "Avg. Rating": "4.36",
                                    "Pub Year": "1988"
                                },
                                {
                                    "Title": "Batman: The Killing Joke",
                                    "Avg. Rating": "4.36",
                                    "Pub Year": "1988"
                                },
                                {
                                    "Title": "The Last Seven Months of Anne Frank",
                                    "Avg. Rating": "4.34",
                                    "Pub Year": "1988"
                                },
                                {
                                    "Title": "Something Wonderful (Sequels, #2)",
                                    "Avg. Rating": "4.33",
                                    "Pub Year": "1988"
                                },
                                {
                                    "Title": "Battle Cry of Freedom",
                                    "Avg. Rating": "4.32",
                                    "Pub Year": "1988"
                                },
                                {
                                    "Title": "The Power of Myth",
                                    "Avg. Rating": "4.3",
                                    "Pub Year": "1988"
                                },
                                {
                                    "Title": "Matilda",
                                    "Avg. Rating": "4.29",
                                    "Pub Year": "1988"
                                },
                                {
                                    "Title": "Lioness Rampant (Song of the Lioness, #4)",
                                    "Avg. Rating": "4.28",
                                    "Pub Year": "1988"
                                }
                            ]
                        },
                        "text/html": [
                            "<table>",
                            "<tr><th>Title</th><th>Avg. Rating</th><th>Pub Year</th></tr>",
                            "<tr><td>The Essential Calvin and Hobbes: A Calvin and Hobbes Treasury</td><td>4.65</td><td>1988</td></tr>",
                            "<tr><td>Where I'm Calling From: New and Selected Stories</td><td>4.42</td><td>1988</td></tr>",
                            "<tr><td>Guess How Much I Love You</td><td>4.36</td><td>1988</td></tr>",
                            "<tr><td>Batman: The Killing Joke</td><td>4.36</td><td>1988</td></tr>",
                            "<tr><td>The Last Seven Months of Anne Frank</td><td>4.34</td><td>1988</td></tr>",
                            "<tr><td>Something Wonderful (Sequels, #2)</td><td>4.33</td><td>1988</td></tr>",
                            "<tr><td>Battle Cry of Freedom</td><td>4.32</td><td>1988</td></tr>",
                            "<tr><td>The Power of Myth</td><td>4.3</td><td>1988</td></tr>",
                            "<tr><td>Matilda</td><td>4.29</td><td>1988</td></tr>",
                            "<tr><td>Lioness Rampant (Song of the Lioness, #4)</td><td>4.28</td><td>1988</td></tr>",
                            "</table>"
                        ]
                    }
                }
            ],
            "execution_count": 69
        },
        {
            "cell_type": "markdown",
            "source": [
                "**Some Question Examples:**\n",
                "\n",
                "Write a query that returns the longest title?\n",
                "\n",
                "Which Author has written the most books?  \n",
                "\n",
                "Top  ten books written the year I was born?"
            ],
            "metadata": {
                "azdata_cell_guid": "7160362b-7127-4123-bd1d-95a94ae38a07"
            }
        }
    ]
}